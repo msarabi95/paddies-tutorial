{
 "cells": [
  {
   "cell_type": "code",
   "execution_count": 1,
   "metadata": {
    "colab": {
     "base_uri": "https://localhost:8080/"
    },
    "id": "LhXOZs6AA81h",
    "outputId": "76cb90bf-a597-452b-83b7-0c4daebf3473",
    "tags": []
   },
   "outputs": [
    {
     "name": "stdout",
     "output_type": "stream",
     "text": [
      "\u001b[33mWARNING: Running pip as the 'root' user can result in broken permissions and conflicting behaviour with the system package manager. It is recommended to use a virtual environment instead: https://pip.pypa.io/warnings/venv\u001b[0m\u001b[33m\n",
      "\u001b[0m"
     ]
    }
   ],
   "source": [
    "! pip install -Uq fastai fastcore fastkaggle kaggle pynvml timm==0.6.2.dev0"
   ]
  },
  {
   "cell_type": "code",
   "execution_count": 2,
   "metadata": {
    "id": "AymTAZW6Be2A",
    "tags": []
   },
   "outputs": [],
   "source": [
    "!mkdir ~/.kaggle\n",
    "!cp kaggle.json ~/.kaggle/kaggle.json\n",
    "!chmod 600 ~/.kaggle/kaggle.json"
   ]
  },
  {
   "cell_type": "code",
   "execution_count": 5,
   "metadata": {
    "id": "lwPCUjfvBsXi",
    "tags": []
   },
   "outputs": [],
   "source": [
    "from fastkaggle import *\n",
    "from fastcore.parallel import *\n",
    "from fastai.vision.all import *"
   ]
  },
  {
   "cell_type": "code",
   "execution_count": 6,
   "metadata": {
    "colab": {
     "base_uri": "https://localhost:8080/"
    },
    "id": "3oQh2z-qCQOf",
    "outputId": "bd2fe3f3-bb33-4a94-81b7-66b1dc4f19c9",
    "tags": []
   },
   "outputs": [],
   "source": [
    "comp = 'paddy-disease-classification'\n",
    "path = setup_comp(comp, install='fastai \"timm==0.6.2.dev0\"')\n",
    "\n",
    "\n",
    "# trn_path = path / 'train_images'"
   ]
  },
  {
   "cell_type": "code",
   "execution_count": 55,
   "metadata": {
    "id": "bmLJ8F8sILir",
    "tags": []
   },
   "outputs": [],
   "source": [
    "trn_path = path/'sml'"
   ]
  },
  {
   "cell_type": "code",
   "execution_count": 8,
   "metadata": {
    "id": "LYnuXGtzIMXW",
    "tags": []
   },
   "outputs": [],
   "source": [
    "resize_images(path/'train_images', dest=trn_path, max_size=256, recurse=True)"
   ]
  },
  {
   "cell_type": "code",
   "execution_count": 9,
   "metadata": {
    "id": "kpyV0UuCCgLf",
    "tags": []
   },
   "outputs": [
    {
     "data": {
      "text/html": [
       "<div>\n",
       "<style scoped>\n",
       "    .dataframe tbody tr th:only-of-type {\n",
       "        vertical-align: middle;\n",
       "    }\n",
       "\n",
       "    .dataframe tbody tr th {\n",
       "        vertical-align: top;\n",
       "    }\n",
       "\n",
       "    .dataframe thead th {\n",
       "        text-align: right;\n",
       "    }\n",
       "</style>\n",
       "<table border=\"1\" class=\"dataframe\">\n",
       "  <thead>\n",
       "    <tr style=\"text-align: right;\">\n",
       "      <th></th>\n",
       "      <th>label</th>\n",
       "      <th>variety</th>\n",
       "      <th>age</th>\n",
       "    </tr>\n",
       "    <tr>\n",
       "      <th>image_id</th>\n",
       "      <th></th>\n",
       "      <th></th>\n",
       "      <th></th>\n",
       "    </tr>\n",
       "  </thead>\n",
       "  <tbody>\n",
       "    <tr>\n",
       "      <th>100330.jpg</th>\n",
       "      <td>bacterial_leaf_blight</td>\n",
       "      <td>ADT45</td>\n",
       "      <td>45</td>\n",
       "    </tr>\n",
       "    <tr>\n",
       "      <th>100365.jpg</th>\n",
       "      <td>bacterial_leaf_blight</td>\n",
       "      <td>ADT45</td>\n",
       "      <td>45</td>\n",
       "    </tr>\n",
       "    <tr>\n",
       "      <th>100382.jpg</th>\n",
       "      <td>bacterial_leaf_blight</td>\n",
       "      <td>ADT45</td>\n",
       "      <td>45</td>\n",
       "    </tr>\n",
       "    <tr>\n",
       "      <th>100632.jpg</th>\n",
       "      <td>bacterial_leaf_blight</td>\n",
       "      <td>ADT45</td>\n",
       "      <td>45</td>\n",
       "    </tr>\n",
       "    <tr>\n",
       "      <th>101918.jpg</th>\n",
       "      <td>bacterial_leaf_blight</td>\n",
       "      <td>ADT45</td>\n",
       "      <td>45</td>\n",
       "    </tr>\n",
       "  </tbody>\n",
       "</table>\n",
       "</div>"
      ],
      "text/plain": [
       "                            label variety  age\n",
       "image_id                                      \n",
       "100330.jpg  bacterial_leaf_blight   ADT45   45\n",
       "100365.jpg  bacterial_leaf_blight   ADT45   45\n",
       "100382.jpg  bacterial_leaf_blight   ADT45   45\n",
       "100632.jpg  bacterial_leaf_blight   ADT45   45\n",
       "101918.jpg  bacterial_leaf_blight   ADT45   45"
      ]
     },
     "execution_count": 9,
     "metadata": {},
     "output_type": "execute_result"
    }
   ],
   "source": [
    "df = pd.read_csv(path / 'train.csv', index_col='image_id')\n",
    "df.head()"
   ]
  },
  {
   "cell_type": "code",
   "execution_count": 10,
   "metadata": {
    "colab": {
     "base_uri": "https://localhost:8080/",
     "height": 36
    },
    "id": "J4S9k6nLU3gV",
    "outputId": "bc303ed3-3f68-4a61-838a-b61bb54b31f5",
    "tags": []
   },
   "outputs": [
    {
     "data": {
      "text/plain": [
       "'ADT45'"
      ]
     },
     "execution_count": 10,
     "metadata": {},
     "output_type": "execute_result"
    }
   ],
   "source": [
    "df.loc['100330.jpg', 'variety']"
   ]
  },
  {
   "cell_type": "code",
   "execution_count": 11,
   "metadata": {
    "id": "A7XW0YvEVEsv",
    "tags": []
   },
   "outputs": [],
   "source": [
    "def get_variety(p): return df.loc[p.name, 'variety']"
   ]
  },
  {
   "cell_type": "code",
   "execution_count": 8,
   "metadata": {
    "id": "Jzm6l4pFVQIQ"
   },
   "outputs": [],
   "source": [
    "dls = DataBlock(\n",
    "    blocks=(ImageBlock, CategoryBlock, CategoryBlock),\n",
    "    n_inp=1,\n",
    "    get_items=get_image_files,\n",
    "    get_y=[parent_label, get_variety],\n",
    "    splitter=RandomSplitter(0.2),\n",
    "    item_tfms=Resize(192, method=ResizeMethod.Squish),\n",
    "    batch_tfms=aug_transforms(size=128, min_scale=0.75),\n",
    ").dataloaders(trn_path)"
   ]
  },
  {
   "cell_type": "code",
   "execution_count": null,
   "metadata": {
    "id": "LpMSJN_eV3_U"
   },
   "outputs": [],
   "source": [
    "dls.show_batch(max_n=6)"
   ]
  },
  {
   "cell_type": "code",
   "execution_count": 12,
   "metadata": {
    "id": "2XJLfLhFF0xo",
    "tags": []
   },
   "outputs": [],
   "source": [
    "def disease_loss(inp, disease, variety): return F.cross_entropy(inp[:, :10], disease)\n",
    "def variety_loss(inp, disease, variety): return F.cross_entropy(inp[:, 10:], variety)\n",
    "def overall_loss(inp, disease, variety): return disease_loss(inp, disease, variety) + variety_loss(inp, disease, variety)\n",
    "def disease_err(inp, disease, variety): return error_rate(inp[:,:10], disease)\n",
    "def variety_err(inp, disease, variety): return error_rate(inp[:,10:], variety)\n",
    "\n",
    "err_metrics = (disease_err, variety_err)\n",
    "all_metrics = err_metrics + (disease_loss, variety_loss)\n",
    "\n",
    "def train_mult(arch,\n",
    "               item=Resize(192, method=ResizeMethod.Squish),\n",
    "               batch=aug_transforms(size=128, min_scale=0.75),\n",
    "               epochs=5, lr=0.01):\n",
    "    dls = DataBlock(\n",
    "        blocks=(ImageBlock, CategoryBlock, CategoryBlock),\n",
    "        n_inp=1,\n",
    "        get_items=get_image_files,\n",
    "        get_y=[parent_label, get_variety],\n",
    "        splitter=RandomSplitter(0.2),\n",
    "        item_tfms=item,\n",
    "        batch_tfms=batch,\n",
    "    ).dataloaders(trn_path)\n",
    "\n",
    "    learn = vision_learner(dls, arch, n_out=20, loss_func=overall_loss, metrics=all_metrics).to_fp16()\n",
    "    learn.fine_tune(epochs, lr)\n",
    "    return learn"
   ]
  },
  {
   "cell_type": "code",
   "execution_count": 14,
   "metadata": {
    "tags": []
   },
   "outputs": [
    {
     "name": "stderr",
     "output_type": "stream",
     "text": [
      "Downloading: \"https://github.com/rwightman/pytorch-image-models/releases/download/v0.1-weights/resnet26d-69e92c46.pth\" to /root/.cache/torch/hub/checkpoints/resnet26d-69e92c46.pth\n"
     ]
    },
    {
     "data": {
      "text/html": [
       "\n",
       "<style>\n",
       "    /* Turns off some styling */\n",
       "    progress {\n",
       "        /* gets rid of default border in Firefox and Opera. */\n",
       "        border: none;\n",
       "        /* Needs to be in here for Safari polyfill so background images work as expected. */\n",
       "        background-size: auto;\n",
       "    }\n",
       "    progress:not([value]), progress:not([value])::-webkit-progress-bar {\n",
       "        background: repeating-linear-gradient(45deg, #7e7e7e, #7e7e7e 10px, #5c5c5c 10px, #5c5c5c 20px);\n",
       "    }\n",
       "    .progress-bar-interrupted, .progress-bar-interrupted::-webkit-progress-bar {\n",
       "        background: #F44336;\n",
       "    }\n",
       "</style>\n"
      ],
      "text/plain": [
       "<IPython.core.display.HTML object>"
      ]
     },
     "metadata": {},
     "output_type": "display_data"
    },
    {
     "data": {
      "text/html": [
       "<table border=\"1\" class=\"dataframe\">\n",
       "  <thead>\n",
       "    <tr style=\"text-align: left;\">\n",
       "      <th>epoch</th>\n",
       "      <th>train_loss</th>\n",
       "      <th>valid_loss</th>\n",
       "      <th>disease_err</th>\n",
       "      <th>variety_err</th>\n",
       "      <th>disease_loss</th>\n",
       "      <th>variety_loss</th>\n",
       "      <th>time</th>\n",
       "    </tr>\n",
       "  </thead>\n",
       "  <tbody>\n",
       "    <tr>\n",
       "      <td>0</td>\n",
       "      <td>3.198171</td>\n",
       "      <td>2.121244</td>\n",
       "      <td>0.473811</td>\n",
       "      <td>0.212878</td>\n",
       "      <td>1.456847</td>\n",
       "      <td>0.664397</td>\n",
       "      <td>00:10</td>\n",
       "    </tr>\n",
       "  </tbody>\n",
       "</table>"
      ],
      "text/plain": [
       "<IPython.core.display.HTML object>"
      ]
     },
     "metadata": {},
     "output_type": "display_data"
    },
    {
     "data": {
      "text/html": [
       "\n",
       "<style>\n",
       "    /* Turns off some styling */\n",
       "    progress {\n",
       "        /* gets rid of default border in Firefox and Opera. */\n",
       "        border: none;\n",
       "        /* Needs to be in here for Safari polyfill so background images work as expected. */\n",
       "        background-size: auto;\n",
       "    }\n",
       "    progress:not([value]), progress:not([value])::-webkit-progress-bar {\n",
       "        background: repeating-linear-gradient(45deg, #7e7e7e, #7e7e7e 10px, #5c5c5c 10px, #5c5c5c 20px);\n",
       "    }\n",
       "    .progress-bar-interrupted, .progress-bar-interrupted::-webkit-progress-bar {\n",
       "        background: #F44336;\n",
       "    }\n",
       "</style>\n"
      ],
      "text/plain": [
       "<IPython.core.display.HTML object>"
      ]
     },
     "metadata": {},
     "output_type": "display_data"
    },
    {
     "data": {
      "text/html": [
       "<table border=\"1\" class=\"dataframe\">\n",
       "  <thead>\n",
       "    <tr style=\"text-align: left;\">\n",
       "      <th>epoch</th>\n",
       "      <th>train_loss</th>\n",
       "      <th>valid_loss</th>\n",
       "      <th>disease_err</th>\n",
       "      <th>variety_err</th>\n",
       "      <th>disease_loss</th>\n",
       "      <th>variety_loss</th>\n",
       "      <th>time</th>\n",
       "    </tr>\n",
       "  </thead>\n",
       "  <tbody>\n",
       "    <tr>\n",
       "      <td>0</td>\n",
       "      <td>2.004896</td>\n",
       "      <td>1.437106</td>\n",
       "      <td>0.338779</td>\n",
       "      <td>0.156175</td>\n",
       "      <td>0.989374</td>\n",
       "      <td>0.447732</td>\n",
       "      <td>00:11</td>\n",
       "    </tr>\n",
       "    <tr>\n",
       "      <td>1</td>\n",
       "      <td>1.534201</td>\n",
       "      <td>0.997659</td>\n",
       "      <td>0.231619</td>\n",
       "      <td>0.103316</td>\n",
       "      <td>0.684890</td>\n",
       "      <td>0.312769</td>\n",
       "      <td>00:11</td>\n",
       "    </tr>\n",
       "    <tr>\n",
       "      <td>2</td>\n",
       "      <td>1.138111</td>\n",
       "      <td>0.668754</td>\n",
       "      <td>0.150889</td>\n",
       "      <td>0.068717</td>\n",
       "      <td>0.481233</td>\n",
       "      <td>0.187520</td>\n",
       "      <td>00:11</td>\n",
       "    </tr>\n",
       "    <tr>\n",
       "      <td>3</td>\n",
       "      <td>0.861547</td>\n",
       "      <td>0.531547</td>\n",
       "      <td>0.128304</td>\n",
       "      <td>0.049495</td>\n",
       "      <td>0.384471</td>\n",
       "      <td>0.147076</td>\n",
       "      <td>00:11</td>\n",
       "    </tr>\n",
       "    <tr>\n",
       "      <td>4</td>\n",
       "      <td>0.692086</td>\n",
       "      <td>0.502793</td>\n",
       "      <td>0.118693</td>\n",
       "      <td>0.048534</td>\n",
       "      <td>0.366629</td>\n",
       "      <td>0.136164</td>\n",
       "      <td>00:11</td>\n",
       "    </tr>\n",
       "  </tbody>\n",
       "</table>"
      ],
      "text/plain": [
       "<IPython.core.display.HTML object>"
      ]
     },
     "metadata": {},
     "output_type": "display_data"
    }
   ],
   "source": [
    "learn = train_mult('resnet26d', item=Resize(192), batch=aug_transforms(size=128, min_scale=0.75))"
   ]
  },
  {
   "cell_type": "code",
   "execution_count": 15,
   "metadata": {
    "colab": {
     "base_uri": "https://localhost:8080/",
     "height": 490
    },
    "id": "F7jFlUU4WiRN",
    "outputId": "4226349a-0758-46c5-d976-502db7f5ed7b",
    "tags": []
   },
   "outputs": [
    {
     "data": {
      "text/html": [
       "\n",
       "<style>\n",
       "    /* Turns off some styling */\n",
       "    progress {\n",
       "        /* gets rid of default border in Firefox and Opera. */\n",
       "        border: none;\n",
       "        /* Needs to be in here for Safari polyfill so background images work as expected. */\n",
       "        background-size: auto;\n",
       "    }\n",
       "    progress:not([value]), progress:not([value])::-webkit-progress-bar {\n",
       "        background: repeating-linear-gradient(45deg, #7e7e7e, #7e7e7e 10px, #5c5c5c 10px, #5c5c5c 20px);\n",
       "    }\n",
       "    .progress-bar-interrupted, .progress-bar-interrupted::-webkit-progress-bar {\n",
       "        background: #F44336;\n",
       "    }\n",
       "</style>\n"
      ],
      "text/plain": [
       "<IPython.core.display.HTML object>"
      ]
     },
     "metadata": {},
     "output_type": "display_data"
    },
    {
     "data": {
      "text/html": [
       "<table border=\"1\" class=\"dataframe\">\n",
       "  <thead>\n",
       "    <tr style=\"text-align: left;\">\n",
       "      <th>epoch</th>\n",
       "      <th>train_loss</th>\n",
       "      <th>valid_loss</th>\n",
       "      <th>disease_err</th>\n",
       "      <th>variety_err</th>\n",
       "      <th>disease_loss</th>\n",
       "      <th>variety_loss</th>\n",
       "      <th>time</th>\n",
       "    </tr>\n",
       "  </thead>\n",
       "  <tbody>\n",
       "    <tr>\n",
       "      <td>0</td>\n",
       "      <td>2.374121</td>\n",
       "      <td>1.141770</td>\n",
       "      <td>0.246997</td>\n",
       "      <td>0.125901</td>\n",
       "      <td>0.757079</td>\n",
       "      <td>0.384691</td>\n",
       "      <td>00:15</td>\n",
       "    </tr>\n",
       "  </tbody>\n",
       "</table>"
      ],
      "text/plain": [
       "<IPython.core.display.HTML object>"
      ]
     },
     "metadata": {},
     "output_type": "display_data"
    },
    {
     "data": {
      "text/html": [
       "\n",
       "<style>\n",
       "    /* Turns off some styling */\n",
       "    progress {\n",
       "        /* gets rid of default border in Firefox and Opera. */\n",
       "        border: none;\n",
       "        /* Needs to be in here for Safari polyfill so background images work as expected. */\n",
       "        background-size: auto;\n",
       "    }\n",
       "    progress:not([value]), progress:not([value])::-webkit-progress-bar {\n",
       "        background: repeating-linear-gradient(45deg, #7e7e7e, #7e7e7e 10px, #5c5c5c 10px, #5c5c5c 20px);\n",
       "    }\n",
       "    .progress-bar-interrupted, .progress-bar-interrupted::-webkit-progress-bar {\n",
       "        background: #F44336;\n",
       "    }\n",
       "</style>\n"
      ],
      "text/plain": [
       "<IPython.core.display.HTML object>"
      ]
     },
     "metadata": {},
     "output_type": "display_data"
    },
    {
     "data": {
      "text/html": [
       "<table border=\"1\" class=\"dataframe\">\n",
       "  <thead>\n",
       "    <tr style=\"text-align: left;\">\n",
       "      <th>epoch</th>\n",
       "      <th>train_loss</th>\n",
       "      <th>valid_loss</th>\n",
       "      <th>disease_err</th>\n",
       "      <th>variety_err</th>\n",
       "      <th>disease_loss</th>\n",
       "      <th>variety_loss</th>\n",
       "      <th>time</th>\n",
       "    </tr>\n",
       "  </thead>\n",
       "  <tbody>\n",
       "    <tr>\n",
       "      <td>0</td>\n",
       "      <td>1.177036</td>\n",
       "      <td>0.648369</td>\n",
       "      <td>0.139837</td>\n",
       "      <td>0.068717</td>\n",
       "      <td>0.445373</td>\n",
       "      <td>0.202996</td>\n",
       "      <td>00:20</td>\n",
       "    </tr>\n",
       "    <tr>\n",
       "      <td>1</td>\n",
       "      <td>0.890303</td>\n",
       "      <td>0.466152</td>\n",
       "      <td>0.105238</td>\n",
       "      <td>0.047573</td>\n",
       "      <td>0.320053</td>\n",
       "      <td>0.146099</td>\n",
       "      <td>00:20</td>\n",
       "    </tr>\n",
       "    <tr>\n",
       "      <td>2</td>\n",
       "      <td>0.583878</td>\n",
       "      <td>0.324066</td>\n",
       "      <td>0.083614</td>\n",
       "      <td>0.022105</td>\n",
       "      <td>0.258381</td>\n",
       "      <td>0.065686</td>\n",
       "      <td>00:21</td>\n",
       "    </tr>\n",
       "    <tr>\n",
       "      <td>3</td>\n",
       "      <td>0.356082</td>\n",
       "      <td>0.208802</td>\n",
       "      <td>0.051898</td>\n",
       "      <td>0.012494</td>\n",
       "      <td>0.166952</td>\n",
       "      <td>0.041851</td>\n",
       "      <td>00:21</td>\n",
       "    </tr>\n",
       "    <tr>\n",
       "      <td>4</td>\n",
       "      <td>0.269124</td>\n",
       "      <td>0.197910</td>\n",
       "      <td>0.049976</td>\n",
       "      <td>0.011533</td>\n",
       "      <td>0.159003</td>\n",
       "      <td>0.038907</td>\n",
       "      <td>00:21</td>\n",
       "    </tr>\n",
       "  </tbody>\n",
       "</table>"
      ],
      "text/plain": [
       "<IPython.core.display.HTML object>"
      ]
     },
     "metadata": {},
     "output_type": "display_data"
    }
   ],
   "source": [
    "learn = train_mult('convnext_small_in22k', item=Resize(192), batch=aug_transforms(size=128, min_scale=0.75))"
   ]
  },
  {
   "cell_type": "code",
   "execution_count": 16,
   "metadata": {
    "tags": []
   },
   "outputs": [
    {
     "data": {
      "text/html": [
       "\n",
       "<style>\n",
       "    /* Turns off some styling */\n",
       "    progress {\n",
       "        /* gets rid of default border in Firefox and Opera. */\n",
       "        border: none;\n",
       "        /* Needs to be in here for Safari polyfill so background images work as expected. */\n",
       "        background-size: auto;\n",
       "    }\n",
       "    progress:not([value]), progress:not([value])::-webkit-progress-bar {\n",
       "        background: repeating-linear-gradient(45deg, #7e7e7e, #7e7e7e 10px, #5c5c5c 10px, #5c5c5c 20px);\n",
       "    }\n",
       "    .progress-bar-interrupted, .progress-bar-interrupted::-webkit-progress-bar {\n",
       "        background: #F44336;\n",
       "    }\n",
       "</style>\n"
      ],
      "text/plain": [
       "<IPython.core.display.HTML object>"
      ]
     },
     "metadata": {},
     "output_type": "display_data"
    },
    {
     "data": {
      "text/html": [
       "<table border=\"1\" class=\"dataframe\">\n",
       "  <thead>\n",
       "    <tr style=\"text-align: left;\">\n",
       "      <th>epoch</th>\n",
       "      <th>train_loss</th>\n",
       "      <th>valid_loss</th>\n",
       "      <th>disease_err</th>\n",
       "      <th>variety_err</th>\n",
       "      <th>disease_loss</th>\n",
       "      <th>variety_loss</th>\n",
       "      <th>time</th>\n",
       "    </tr>\n",
       "  </thead>\n",
       "  <tbody>\n",
       "    <tr>\n",
       "      <td>0</td>\n",
       "      <td>2.309283</td>\n",
       "      <td>1.231965</td>\n",
       "      <td>0.254685</td>\n",
       "      <td>0.130706</td>\n",
       "      <td>0.809533</td>\n",
       "      <td>0.422432</td>\n",
       "      <td>00:15</td>\n",
       "    </tr>\n",
       "  </tbody>\n",
       "</table>"
      ],
      "text/plain": [
       "<IPython.core.display.HTML object>"
      ]
     },
     "metadata": {},
     "output_type": "display_data"
    },
    {
     "data": {
      "text/html": [
       "\n",
       "<style>\n",
       "    /* Turns off some styling */\n",
       "    progress {\n",
       "        /* gets rid of default border in Firefox and Opera. */\n",
       "        border: none;\n",
       "        /* Needs to be in here for Safari polyfill so background images work as expected. */\n",
       "        background-size: auto;\n",
       "    }\n",
       "    progress:not([value]), progress:not([value])::-webkit-progress-bar {\n",
       "        background: repeating-linear-gradient(45deg, #7e7e7e, #7e7e7e 10px, #5c5c5c 10px, #5c5c5c 20px);\n",
       "    }\n",
       "    .progress-bar-interrupted, .progress-bar-interrupted::-webkit-progress-bar {\n",
       "        background: #F44336;\n",
       "    }\n",
       "</style>\n"
      ],
      "text/plain": [
       "<IPython.core.display.HTML object>"
      ]
     },
     "metadata": {},
     "output_type": "display_data"
    },
    {
     "data": {
      "text/html": [
       "<table border=\"1\" class=\"dataframe\">\n",
       "  <thead>\n",
       "    <tr style=\"text-align: left;\">\n",
       "      <th>epoch</th>\n",
       "      <th>train_loss</th>\n",
       "      <th>valid_loss</th>\n",
       "      <th>disease_err</th>\n",
       "      <th>variety_err</th>\n",
       "      <th>disease_loss</th>\n",
       "      <th>variety_loss</th>\n",
       "      <th>time</th>\n",
       "    </tr>\n",
       "  </thead>\n",
       "  <tbody>\n",
       "    <tr>\n",
       "      <td>0</td>\n",
       "      <td>1.059927</td>\n",
       "      <td>0.669186</td>\n",
       "      <td>0.158097</td>\n",
       "      <td>0.055262</td>\n",
       "      <td>0.486196</td>\n",
       "      <td>0.182991</td>\n",
       "      <td>00:21</td>\n",
       "    </tr>\n",
       "    <tr>\n",
       "      <td>1</td>\n",
       "      <td>0.819467</td>\n",
       "      <td>0.469493</td>\n",
       "      <td>0.104277</td>\n",
       "      <td>0.052379</td>\n",
       "      <td>0.319473</td>\n",
       "      <td>0.150020</td>\n",
       "      <td>00:21</td>\n",
       "    </tr>\n",
       "    <tr>\n",
       "      <td>2</td>\n",
       "      <td>0.521317</td>\n",
       "      <td>0.296040</td>\n",
       "      <td>0.075925</td>\n",
       "      <td>0.026430</td>\n",
       "      <td>0.214086</td>\n",
       "      <td>0.081954</td>\n",
       "      <td>00:21</td>\n",
       "    </tr>\n",
       "    <tr>\n",
       "      <td>3</td>\n",
       "      <td>0.312097</td>\n",
       "      <td>0.214177</td>\n",
       "      <td>0.049015</td>\n",
       "      <td>0.014416</td>\n",
       "      <td>0.163908</td>\n",
       "      <td>0.050270</td>\n",
       "      <td>00:21</td>\n",
       "    </tr>\n",
       "    <tr>\n",
       "      <td>4</td>\n",
       "      <td>0.214902</td>\n",
       "      <td>0.192200</td>\n",
       "      <td>0.051418</td>\n",
       "      <td>0.012494</td>\n",
       "      <td>0.149103</td>\n",
       "      <td>0.043097</td>\n",
       "      <td>00:21</td>\n",
       "    </tr>\n",
       "  </tbody>\n",
       "</table>"
      ],
      "text/plain": [
       "<IPython.core.display.HTML object>"
      ]
     },
     "metadata": {},
     "output_type": "display_data"
    }
   ],
   "source": [
    "learn = train_mult('convnext_small_in22k',\n",
    "                  item=Resize((256, 192), method=ResizeMethod.Pad, pad_mode=PadMode.Zeros),\n",
    "                  batch=aug_transforms(size=128, min_scale=0.75))"
   ]
  },
  {
   "cell_type": "code",
   "execution_count": 43,
   "metadata": {
    "tags": []
   },
   "outputs": [
    {
     "data": {
      "text/html": [
       "\n",
       "<style>\n",
       "    /* Turns off some styling */\n",
       "    progress {\n",
       "        /* gets rid of default border in Firefox and Opera. */\n",
       "        border: none;\n",
       "        /* Needs to be in here for Safari polyfill so background images work as expected. */\n",
       "        background-size: auto;\n",
       "    }\n",
       "    progress:not([value]), progress:not([value])::-webkit-progress-bar {\n",
       "        background: repeating-linear-gradient(45deg, #7e7e7e, #7e7e7e 10px, #5c5c5c 10px, #5c5c5c 20px);\n",
       "    }\n",
       "    .progress-bar-interrupted, .progress-bar-interrupted::-webkit-progress-bar {\n",
       "        background: #F44336;\n",
       "    }\n",
       "</style>\n"
      ],
      "text/plain": [
       "<IPython.core.display.HTML object>"
      ]
     },
     "metadata": {},
     "output_type": "display_data"
    },
    {
     "data": {
      "text/html": [
       "\n",
       "    <div>\n",
       "      <progress value='0' class='' max='5' style='width:300px; height:20px; vertical-align: middle;'></progress>\n",
       "      \n",
       "    </div>\n",
       "    \n"
      ],
      "text/plain": [
       "<IPython.core.display.HTML object>"
      ]
     },
     "metadata": {},
     "output_type": "display_data"
    },
    {
     "data": {
      "text/html": [
       "\n",
       "<style>\n",
       "    /* Turns off some styling */\n",
       "    progress {\n",
       "        /* gets rid of default border in Firefox and Opera. */\n",
       "        border: none;\n",
       "        /* Needs to be in here for Safari polyfill so background images work as expected. */\n",
       "        background-size: auto;\n",
       "    }\n",
       "    progress:not([value]), progress:not([value])::-webkit-progress-bar {\n",
       "        background: repeating-linear-gradient(45deg, #7e7e7e, #7e7e7e 10px, #5c5c5c 10px, #5c5c5c 20px);\n",
       "    }\n",
       "    .progress-bar-interrupted, .progress-bar-interrupted::-webkit-progress-bar {\n",
       "        background: #F44336;\n",
       "    }\n",
       "</style>\n"
      ],
      "text/plain": [
       "<IPython.core.display.HTML object>"
      ]
     },
     "metadata": {},
     "output_type": "display_data"
    },
    {
     "data": {
      "text/html": [],
      "text/plain": [
       "<IPython.core.display.HTML object>"
      ]
     },
     "metadata": {},
     "output_type": "display_data"
    }
   ],
   "source": [
    "tta_preds, targs = learn.tta(dl=learn.dls.valid)"
   ]
  },
  {
   "cell_type": "code",
   "execution_count": 46,
   "metadata": {
    "tags": []
   },
   "outputs": [
    {
     "data": {
      "text/plain": [
       "TensorBase(0.0399)"
      ]
     },
     "execution_count": 46,
     "metadata": {},
     "output_type": "execute_result"
    }
   ],
   "source": [
    "error_rate(tta_preds[:, :10], targs[0])"
   ]
  },
  {
   "cell_type": "code",
   "execution_count": 56,
   "metadata": {
    "tags": []
   },
   "outputs": [
    {
     "data": {
      "text/html": [
       "\n",
       "<style>\n",
       "    /* Turns off some styling */\n",
       "    progress {\n",
       "        /* gets rid of default border in Firefox and Opera. */\n",
       "        border: none;\n",
       "        /* Needs to be in here for Safari polyfill so background images work as expected. */\n",
       "        background-size: auto;\n",
       "    }\n",
       "    progress:not([value]), progress:not([value])::-webkit-progress-bar {\n",
       "        background: repeating-linear-gradient(45deg, #7e7e7e, #7e7e7e 10px, #5c5c5c 10px, #5c5c5c 20px);\n",
       "    }\n",
       "    .progress-bar-interrupted, .progress-bar-interrupted::-webkit-progress-bar {\n",
       "        background: #F44336;\n",
       "    }\n",
       "</style>\n"
      ],
      "text/plain": [
       "<IPython.core.display.HTML object>"
      ]
     },
     "metadata": {},
     "output_type": "display_data"
    },
    {
     "data": {
      "text/html": [
       "<table border=\"1\" class=\"dataframe\">\n",
       "  <thead>\n",
       "    <tr style=\"text-align: left;\">\n",
       "      <th>epoch</th>\n",
       "      <th>train_loss</th>\n",
       "      <th>valid_loss</th>\n",
       "      <th>disease_err</th>\n",
       "      <th>variety_err</th>\n",
       "      <th>disease_loss</th>\n",
       "      <th>variety_loss</th>\n",
       "      <th>time</th>\n",
       "    </tr>\n",
       "  </thead>\n",
       "  <tbody>\n",
       "    <tr>\n",
       "      <td>0</td>\n",
       "      <td>2.454495</td>\n",
       "      <td>1.282942</td>\n",
       "      <td>0.263815</td>\n",
       "      <td>0.146084</td>\n",
       "      <td>0.803236</td>\n",
       "      <td>0.479706</td>\n",
       "      <td>00:15</td>\n",
       "    </tr>\n",
       "  </tbody>\n",
       "</table>"
      ],
      "text/plain": [
       "<IPython.core.display.HTML object>"
      ]
     },
     "metadata": {},
     "output_type": "display_data"
    },
    {
     "data": {
      "text/html": [
       "\n",
       "<style>\n",
       "    /* Turns off some styling */\n",
       "    progress {\n",
       "        /* gets rid of default border in Firefox and Opera. */\n",
       "        border: none;\n",
       "        /* Needs to be in here for Safari polyfill so background images work as expected. */\n",
       "        background-size: auto;\n",
       "    }\n",
       "    progress:not([value]), progress:not([value])::-webkit-progress-bar {\n",
       "        background: repeating-linear-gradient(45deg, #7e7e7e, #7e7e7e 10px, #5c5c5c 10px, #5c5c5c 20px);\n",
       "    }\n",
       "    .progress-bar-interrupted, .progress-bar-interrupted::-webkit-progress-bar {\n",
       "        background: #F44336;\n",
       "    }\n",
       "</style>\n"
      ],
      "text/plain": [
       "<IPython.core.display.HTML object>"
      ]
     },
     "metadata": {},
     "output_type": "display_data"
    },
    {
     "data": {
      "text/html": [
       "<table border=\"1\" class=\"dataframe\">\n",
       "  <thead>\n",
       "    <tr style=\"text-align: left;\">\n",
       "      <th>epoch</th>\n",
       "      <th>train_loss</th>\n",
       "      <th>valid_loss</th>\n",
       "      <th>disease_err</th>\n",
       "      <th>variety_err</th>\n",
       "      <th>disease_loss</th>\n",
       "      <th>variety_loss</th>\n",
       "      <th>time</th>\n",
       "    </tr>\n",
       "  </thead>\n",
       "  <tbody>\n",
       "    <tr>\n",
       "      <td>0</td>\n",
       "      <td>0.876098</td>\n",
       "      <td>0.576787</td>\n",
       "      <td>0.147045</td>\n",
       "      <td>0.049015</td>\n",
       "      <td>0.428618</td>\n",
       "      <td>0.148168</td>\n",
       "      <td>00:21</td>\n",
       "    </tr>\n",
       "    <tr>\n",
       "      <td>1</td>\n",
       "      <td>0.771991</td>\n",
       "      <td>0.526897</td>\n",
       "      <td>0.120135</td>\n",
       "      <td>0.045651</td>\n",
       "      <td>0.393779</td>\n",
       "      <td>0.133117</td>\n",
       "      <td>00:21</td>\n",
       "    </tr>\n",
       "    <tr>\n",
       "      <td>2</td>\n",
       "      <td>0.846310</td>\n",
       "      <td>0.535799</td>\n",
       "      <td>0.118693</td>\n",
       "      <td>0.043248</td>\n",
       "      <td>0.404225</td>\n",
       "      <td>0.131574</td>\n",
       "      <td>00:21</td>\n",
       "    </tr>\n",
       "    <tr>\n",
       "      <td>3</td>\n",
       "      <td>0.713606</td>\n",
       "      <td>0.583141</td>\n",
       "      <td>0.123498</td>\n",
       "      <td>0.064392</td>\n",
       "      <td>0.411277</td>\n",
       "      <td>0.171865</td>\n",
       "      <td>00:21</td>\n",
       "    </tr>\n",
       "    <tr>\n",
       "      <td>4</td>\n",
       "      <td>0.509220</td>\n",
       "      <td>0.441050</td>\n",
       "      <td>0.084575</td>\n",
       "      <td>0.025949</td>\n",
       "      <td>0.346051</td>\n",
       "      <td>0.094999</td>\n",
       "      <td>00:21</td>\n",
       "    </tr>\n",
       "    <tr>\n",
       "      <td>5</td>\n",
       "      <td>0.440470</td>\n",
       "      <td>0.421923</td>\n",
       "      <td>0.083614</td>\n",
       "      <td>0.027871</td>\n",
       "      <td>0.338387</td>\n",
       "      <td>0.083535</td>\n",
       "      <td>00:21</td>\n",
       "    </tr>\n",
       "    <tr>\n",
       "      <td>6</td>\n",
       "      <td>0.308867</td>\n",
       "      <td>0.348068</td>\n",
       "      <td>0.055262</td>\n",
       "      <td>0.044690</td>\n",
       "      <td>0.220719</td>\n",
       "      <td>0.127349</td>\n",
       "      <td>00:21</td>\n",
       "    </tr>\n",
       "    <tr>\n",
       "      <td>7</td>\n",
       "      <td>0.177146</td>\n",
       "      <td>0.215404</td>\n",
       "      <td>0.040365</td>\n",
       "      <td>0.011533</td>\n",
       "      <td>0.170071</td>\n",
       "      <td>0.045332</td>\n",
       "      <td>00:21</td>\n",
       "    </tr>\n",
       "    <tr>\n",
       "      <td>8</td>\n",
       "      <td>0.124725</td>\n",
       "      <td>0.184640</td>\n",
       "      <td>0.032677</td>\n",
       "      <td>0.006247</td>\n",
       "      <td>0.158400</td>\n",
       "      <td>0.026240</td>\n",
       "      <td>00:21</td>\n",
       "    </tr>\n",
       "    <tr>\n",
       "      <td>9</td>\n",
       "      <td>0.088942</td>\n",
       "      <td>0.184183</td>\n",
       "      <td>0.031716</td>\n",
       "      <td>0.005766</td>\n",
       "      <td>0.158082</td>\n",
       "      <td>0.026101</td>\n",
       "      <td>00:21</td>\n",
       "    </tr>\n",
       "    <tr>\n",
       "      <td>10</td>\n",
       "      <td>0.057930</td>\n",
       "      <td>0.161320</td>\n",
       "      <td>0.027391</td>\n",
       "      <td>0.005286</td>\n",
       "      <td>0.142535</td>\n",
       "      <td>0.018785</td>\n",
       "      <td>00:21</td>\n",
       "    </tr>\n",
       "    <tr>\n",
       "      <td>11</td>\n",
       "      <td>0.044620</td>\n",
       "      <td>0.160905</td>\n",
       "      <td>0.029313</td>\n",
       "      <td>0.005766</td>\n",
       "      <td>0.141501</td>\n",
       "      <td>0.019404</td>\n",
       "      <td>00:21</td>\n",
       "    </tr>\n",
       "  </tbody>\n",
       "</table>"
      ],
      "text/plain": [
       "<IPython.core.display.HTML object>"
      ]
     },
     "metadata": {},
     "output_type": "display_data"
    }
   ],
   "source": [
    "learn = train_mult('convnext_small_in22k',\n",
    "                  item=Resize((256, 192), method=ResizeMethod.Pad, pad_mode=PadMode.Zeros),\n",
    "                  batch=aug_transforms(size=128, min_scale=0.75),\n",
    "                  epochs=12, lr=0.05)"
   ]
  },
  {
   "cell_type": "code",
   "execution_count": 48,
   "metadata": {
    "tags": []
   },
   "outputs": [
    {
     "data": {
      "text/html": [
       "\n",
       "<style>\n",
       "    /* Turns off some styling */\n",
       "    progress {\n",
       "        /* gets rid of default border in Firefox and Opera. */\n",
       "        border: none;\n",
       "        /* Needs to be in here for Safari polyfill so background images work as expected. */\n",
       "        background-size: auto;\n",
       "    }\n",
       "    progress:not([value]), progress:not([value])::-webkit-progress-bar {\n",
       "        background: repeating-linear-gradient(45deg, #7e7e7e, #7e7e7e 10px, #5c5c5c 10px, #5c5c5c 20px);\n",
       "    }\n",
       "    .progress-bar-interrupted, .progress-bar-interrupted::-webkit-progress-bar {\n",
       "        background: #F44336;\n",
       "    }\n",
       "</style>\n"
      ],
      "text/plain": [
       "<IPython.core.display.HTML object>"
      ]
     },
     "metadata": {},
     "output_type": "display_data"
    },
    {
     "data": {
      "text/html": [
       "\n",
       "    <div>\n",
       "      <progress value='0' class='' max='12' style='width:300px; height:20px; vertical-align: middle;'></progress>\n",
       "      \n",
       "    </div>\n",
       "    \n"
      ],
      "text/plain": [
       "<IPython.core.display.HTML object>"
      ]
     },
     "metadata": {},
     "output_type": "display_data"
    },
    {
     "data": {
      "text/html": [
       "\n",
       "<style>\n",
       "    /* Turns off some styling */\n",
       "    progress {\n",
       "        /* gets rid of default border in Firefox and Opera. */\n",
       "        border: none;\n",
       "        /* Needs to be in here for Safari polyfill so background images work as expected. */\n",
       "        background-size: auto;\n",
       "    }\n",
       "    progress:not([value]), progress:not([value])::-webkit-progress-bar {\n",
       "        background: repeating-linear-gradient(45deg, #7e7e7e, #7e7e7e 10px, #5c5c5c 10px, #5c5c5c 20px);\n",
       "    }\n",
       "    .progress-bar-interrupted, .progress-bar-interrupted::-webkit-progress-bar {\n",
       "        background: #F44336;\n",
       "    }\n",
       "</style>\n"
      ],
      "text/plain": [
       "<IPython.core.display.HTML object>"
      ]
     },
     "metadata": {},
     "output_type": "display_data"
    },
    {
     "data": {
      "text/html": [],
      "text/plain": [
       "<IPython.core.display.HTML object>"
      ]
     },
     "metadata": {},
     "output_type": "display_data"
    },
    {
     "data": {
      "text/plain": [
       "TensorBase(0.0288)"
      ]
     },
     "execution_count": 48,
     "metadata": {},
     "output_type": "execute_result"
    }
   ],
   "source": [
    "tta_preds, targs = learn.tta(dl=learn.dls.valid)\n",
    "error_rate(tta_preds[:, :10], targs[0])"
   ]
  },
  {
   "cell_type": "code",
   "execution_count": 57,
   "metadata": {
    "tags": []
   },
   "outputs": [
    {
     "data": {
      "text/html": [
       "\n",
       "<style>\n",
       "    /* Turns off some styling */\n",
       "    progress {\n",
       "        /* gets rid of default border in Firefox and Opera. */\n",
       "        border: none;\n",
       "        /* Needs to be in here for Safari polyfill so background images work as expected. */\n",
       "        background-size: auto;\n",
       "    }\n",
       "    progress:not([value]), progress:not([value])::-webkit-progress-bar {\n",
       "        background: repeating-linear-gradient(45deg, #7e7e7e, #7e7e7e 10px, #5c5c5c 10px, #5c5c5c 20px);\n",
       "    }\n",
       "    .progress-bar-interrupted, .progress-bar-interrupted::-webkit-progress-bar {\n",
       "        background: #F44336;\n",
       "    }\n",
       "</style>\n"
      ],
      "text/plain": [
       "<IPython.core.display.HTML object>"
      ]
     },
     "metadata": {},
     "output_type": "display_data"
    },
    {
     "data": {
      "text/html": [
       "<table border=\"1\" class=\"dataframe\">\n",
       "  <thead>\n",
       "    <tr style=\"text-align: left;\">\n",
       "      <th>epoch</th>\n",
       "      <th>train_loss</th>\n",
       "      <th>valid_loss</th>\n",
       "      <th>disease_err</th>\n",
       "      <th>variety_err</th>\n",
       "      <th>disease_loss</th>\n",
       "      <th>variety_loss</th>\n",
       "      <th>time</th>\n",
       "    </tr>\n",
       "  </thead>\n",
       "  <tbody>\n",
       "    <tr>\n",
       "      <td>0</td>\n",
       "      <td>2.481592</td>\n",
       "      <td>1.368520</td>\n",
       "      <td>0.263815</td>\n",
       "      <td>0.168188</td>\n",
       "      <td>0.819950</td>\n",
       "      <td>0.548571</td>\n",
       "      <td>00:15</td>\n",
       "    </tr>\n",
       "  </tbody>\n",
       "</table>"
      ],
      "text/plain": [
       "<IPython.core.display.HTML object>"
      ]
     },
     "metadata": {},
     "output_type": "display_data"
    },
    {
     "data": {
      "text/html": [
       "\n",
       "<style>\n",
       "    /* Turns off some styling */\n",
       "    progress {\n",
       "        /* gets rid of default border in Firefox and Opera. */\n",
       "        border: none;\n",
       "        /* Needs to be in here for Safari polyfill so background images work as expected. */\n",
       "        background-size: auto;\n",
       "    }\n",
       "    progress:not([value]), progress:not([value])::-webkit-progress-bar {\n",
       "        background: repeating-linear-gradient(45deg, #7e7e7e, #7e7e7e 10px, #5c5c5c 10px, #5c5c5c 20px);\n",
       "    }\n",
       "    .progress-bar-interrupted, .progress-bar-interrupted::-webkit-progress-bar {\n",
       "        background: #F44336;\n",
       "    }\n",
       "</style>\n"
      ],
      "text/plain": [
       "<IPython.core.display.HTML object>"
      ]
     },
     "metadata": {},
     "output_type": "display_data"
    },
    {
     "data": {
      "text/html": [
       "<table border=\"1\" class=\"dataframe\">\n",
       "  <thead>\n",
       "    <tr style=\"text-align: left;\">\n",
       "      <th>epoch</th>\n",
       "      <th>train_loss</th>\n",
       "      <th>valid_loss</th>\n",
       "      <th>disease_err</th>\n",
       "      <th>variety_err</th>\n",
       "      <th>disease_loss</th>\n",
       "      <th>variety_loss</th>\n",
       "      <th>time</th>\n",
       "    </tr>\n",
       "  </thead>\n",
       "  <tbody>\n",
       "    <tr>\n",
       "      <td>0</td>\n",
       "      <td>0.919651</td>\n",
       "      <td>0.640784</td>\n",
       "      <td>0.152811</td>\n",
       "      <td>0.054781</td>\n",
       "      <td>0.465354</td>\n",
       "      <td>0.175430</td>\n",
       "      <td>00:21</td>\n",
       "    </tr>\n",
       "    <tr>\n",
       "      <td>1</td>\n",
       "      <td>0.689989</td>\n",
       "      <td>0.631843</td>\n",
       "      <td>0.127343</td>\n",
       "      <td>0.056223</td>\n",
       "      <td>0.425673</td>\n",
       "      <td>0.206170</td>\n",
       "      <td>00:21</td>\n",
       "    </tr>\n",
       "    <tr>\n",
       "      <td>2</td>\n",
       "      <td>0.741369</td>\n",
       "      <td>0.548382</td>\n",
       "      <td>0.109563</td>\n",
       "      <td>0.057665</td>\n",
       "      <td>0.361648</td>\n",
       "      <td>0.186734</td>\n",
       "      <td>00:21</td>\n",
       "    </tr>\n",
       "    <tr>\n",
       "      <td>3</td>\n",
       "      <td>0.670034</td>\n",
       "      <td>0.625307</td>\n",
       "      <td>0.100913</td>\n",
       "      <td>0.068236</td>\n",
       "      <td>0.356377</td>\n",
       "      <td>0.268930</td>\n",
       "      <td>00:21</td>\n",
       "    </tr>\n",
       "    <tr>\n",
       "      <td>4</td>\n",
       "      <td>0.671393</td>\n",
       "      <td>0.647018</td>\n",
       "      <td>0.114849</td>\n",
       "      <td>0.046132</td>\n",
       "      <td>0.468465</td>\n",
       "      <td>0.178553</td>\n",
       "      <td>00:21</td>\n",
       "    </tr>\n",
       "    <tr>\n",
       "      <td>5</td>\n",
       "      <td>0.510468</td>\n",
       "      <td>0.513812</td>\n",
       "      <td>0.091302</td>\n",
       "      <td>0.047573</td>\n",
       "      <td>0.313296</td>\n",
       "      <td>0.200516</td>\n",
       "      <td>00:21</td>\n",
       "    </tr>\n",
       "    <tr>\n",
       "      <td>6</td>\n",
       "      <td>0.454402</td>\n",
       "      <td>0.262291</td>\n",
       "      <td>0.048534</td>\n",
       "      <td>0.026430</td>\n",
       "      <td>0.182751</td>\n",
       "      <td>0.079540</td>\n",
       "      <td>00:21</td>\n",
       "    </tr>\n",
       "    <tr>\n",
       "      <td>7</td>\n",
       "      <td>0.369885</td>\n",
       "      <td>0.263096</td>\n",
       "      <td>0.042768</td>\n",
       "      <td>0.017299</td>\n",
       "      <td>0.177412</td>\n",
       "      <td>0.085685</td>\n",
       "      <td>00:21</td>\n",
       "    </tr>\n",
       "    <tr>\n",
       "      <td>8</td>\n",
       "      <td>0.300680</td>\n",
       "      <td>0.250080</td>\n",
       "      <td>0.043248</td>\n",
       "      <td>0.019222</td>\n",
       "      <td>0.165453</td>\n",
       "      <td>0.084627</td>\n",
       "      <td>00:21</td>\n",
       "    </tr>\n",
       "    <tr>\n",
       "      <td>9</td>\n",
       "      <td>0.202481</td>\n",
       "      <td>0.209054</td>\n",
       "      <td>0.038924</td>\n",
       "      <td>0.013455</td>\n",
       "      <td>0.146238</td>\n",
       "      <td>0.062816</td>\n",
       "      <td>00:21</td>\n",
       "    </tr>\n",
       "    <tr>\n",
       "      <td>10</td>\n",
       "      <td>0.142275</td>\n",
       "      <td>0.204677</td>\n",
       "      <td>0.031235</td>\n",
       "      <td>0.010572</td>\n",
       "      <td>0.153662</td>\n",
       "      <td>0.051014</td>\n",
       "      <td>00:21</td>\n",
       "    </tr>\n",
       "    <tr>\n",
       "      <td>11</td>\n",
       "      <td>0.103808</td>\n",
       "      <td>0.161669</td>\n",
       "      <td>0.030274</td>\n",
       "      <td>0.010091</td>\n",
       "      <td>0.113555</td>\n",
       "      <td>0.048114</td>\n",
       "      <td>00:21</td>\n",
       "    </tr>\n",
       "    <tr>\n",
       "      <td>12</td>\n",
       "      <td>0.067645</td>\n",
       "      <td>0.162174</td>\n",
       "      <td>0.026910</td>\n",
       "      <td>0.011052</td>\n",
       "      <td>0.109483</td>\n",
       "      <td>0.052691</td>\n",
       "      <td>00:21</td>\n",
       "    </tr>\n",
       "    <tr>\n",
       "      <td>13</td>\n",
       "      <td>0.046436</td>\n",
       "      <td>0.142588</td>\n",
       "      <td>0.024988</td>\n",
       "      <td>0.010572</td>\n",
       "      <td>0.098558</td>\n",
       "      <td>0.044030</td>\n",
       "      <td>00:21</td>\n",
       "    </tr>\n",
       "    <tr>\n",
       "      <td>14</td>\n",
       "      <td>0.040824</td>\n",
       "      <td>0.140706</td>\n",
       "      <td>0.023546</td>\n",
       "      <td>0.008650</td>\n",
       "      <td>0.099783</td>\n",
       "      <td>0.040923</td>\n",
       "      <td>00:21</td>\n",
       "    </tr>\n",
       "    <tr>\n",
       "      <td>15</td>\n",
       "      <td>0.028302</td>\n",
       "      <td>0.140351</td>\n",
       "      <td>0.023546</td>\n",
       "      <td>0.010091</td>\n",
       "      <td>0.099461</td>\n",
       "      <td>0.040890</td>\n",
       "      <td>00:21</td>\n",
       "    </tr>\n",
       "  </tbody>\n",
       "</table>"
      ],
      "text/plain": [
       "<IPython.core.display.HTML object>"
      ]
     },
     "metadata": {},
     "output_type": "display_data"
    }
   ],
   "source": [
    "learn = train_mult('convnext_small_in22k',\n",
    "                  item=Resize((256, 192), method=ResizeMethod.Pad, pad_mode=PadMode.Zeros),\n",
    "                  batch=aug_transforms(size=128, min_scale=0.75),\n",
    "                  epochs=16, lr=0.05)"
   ]
  },
  {
   "cell_type": "code",
   "execution_count": 58,
   "metadata": {
    "tags": []
   },
   "outputs": [
    {
     "data": {
      "text/html": [
       "\n",
       "<style>\n",
       "    /* Turns off some styling */\n",
       "    progress {\n",
       "        /* gets rid of default border in Firefox and Opera. */\n",
       "        border: none;\n",
       "        /* Needs to be in here for Safari polyfill so background images work as expected. */\n",
       "        background-size: auto;\n",
       "    }\n",
       "    progress:not([value]), progress:not([value])::-webkit-progress-bar {\n",
       "        background: repeating-linear-gradient(45deg, #7e7e7e, #7e7e7e 10px, #5c5c5c 10px, #5c5c5c 20px);\n",
       "    }\n",
       "    .progress-bar-interrupted, .progress-bar-interrupted::-webkit-progress-bar {\n",
       "        background: #F44336;\n",
       "    }\n",
       "</style>\n"
      ],
      "text/plain": [
       "<IPython.core.display.HTML object>"
      ]
     },
     "metadata": {},
     "output_type": "display_data"
    },
    {
     "data": {
      "text/html": [
       "\n",
       "    <div>\n",
       "      <progress value='0' class='' max='16' style='width:300px; height:20px; vertical-align: middle;'></progress>\n",
       "      \n",
       "    </div>\n",
       "    \n"
      ],
      "text/plain": [
       "<IPython.core.display.HTML object>"
      ]
     },
     "metadata": {},
     "output_type": "display_data"
    },
    {
     "data": {
      "text/html": [
       "\n",
       "<style>\n",
       "    /* Turns off some styling */\n",
       "    progress {\n",
       "        /* gets rid of default border in Firefox and Opera. */\n",
       "        border: none;\n",
       "        /* Needs to be in here for Safari polyfill so background images work as expected. */\n",
       "        background-size: auto;\n",
       "    }\n",
       "    progress:not([value]), progress:not([value])::-webkit-progress-bar {\n",
       "        background: repeating-linear-gradient(45deg, #7e7e7e, #7e7e7e 10px, #5c5c5c 10px, #5c5c5c 20px);\n",
       "    }\n",
       "    .progress-bar-interrupted, .progress-bar-interrupted::-webkit-progress-bar {\n",
       "        background: #F44336;\n",
       "    }\n",
       "</style>\n"
      ],
      "text/plain": [
       "<IPython.core.display.HTML object>"
      ]
     },
     "metadata": {},
     "output_type": "display_data"
    },
    {
     "data": {
      "text/html": [],
      "text/plain": [
       "<IPython.core.display.HTML object>"
      ]
     },
     "metadata": {},
     "output_type": "display_data"
    },
    {
     "data": {
      "text/plain": [
       "TensorBase(0.0235)"
      ]
     },
     "execution_count": 58,
     "metadata": {},
     "output_type": "execute_result"
    }
   ],
   "source": [
    "tta_preds, targs = learn.tta(dl=learn.dls.valid)\n",
    "error_rate(tta_preds[:, :10], targs[0])"
   ]
  },
  {
   "cell_type": "code",
   "execution_count": 66,
   "metadata": {
    "tags": []
   },
   "outputs": [
    {
     "data": {
      "text/html": [
       "\n",
       "<style>\n",
       "    /* Turns off some styling */\n",
       "    progress {\n",
       "        /* gets rid of default border in Firefox and Opera. */\n",
       "        border: none;\n",
       "        /* Needs to be in here for Safari polyfill so background images work as expected. */\n",
       "        background-size: auto;\n",
       "    }\n",
       "    progress:not([value]), progress:not([value])::-webkit-progress-bar {\n",
       "        background: repeating-linear-gradient(45deg, #7e7e7e, #7e7e7e 10px, #5c5c5c 10px, #5c5c5c 20px);\n",
       "    }\n",
       "    .progress-bar-interrupted, .progress-bar-interrupted::-webkit-progress-bar {\n",
       "        background: #F44336;\n",
       "    }\n",
       "</style>\n"
      ],
      "text/plain": [
       "<IPython.core.display.HTML object>"
      ]
     },
     "metadata": {},
     "output_type": "display_data"
    },
    {
     "data": {
      "text/html": [
       "<table border=\"1\" class=\"dataframe\">\n",
       "  <thead>\n",
       "    <tr style=\"text-align: left;\">\n",
       "      <th>epoch</th>\n",
       "      <th>train_loss</th>\n",
       "      <th>valid_loss</th>\n",
       "      <th>disease_err</th>\n",
       "      <th>variety_err</th>\n",
       "      <th>disease_loss</th>\n",
       "      <th>variety_loss</th>\n",
       "      <th>time</th>\n",
       "    </tr>\n",
       "  </thead>\n",
       "  <tbody>\n",
       "    <tr>\n",
       "      <td>0</td>\n",
       "      <td>4.577718</td>\n",
       "      <td>2.355789</td>\n",
       "      <td>0.340702</td>\n",
       "      <td>0.324363</td>\n",
       "      <td>1.060234</td>\n",
       "      <td>1.295555</td>\n",
       "      <td>00:16</td>\n",
       "    </tr>\n",
       "  </tbody>\n",
       "</table>"
      ],
      "text/plain": [
       "<IPython.core.display.HTML object>"
      ]
     },
     "metadata": {},
     "output_type": "display_data"
    },
    {
     "data": {
      "text/html": [
       "\n",
       "<style>\n",
       "    /* Turns off some styling */\n",
       "    progress {\n",
       "        /* gets rid of default border in Firefox and Opera. */\n",
       "        border: none;\n",
       "        /* Needs to be in here for Safari polyfill so background images work as expected. */\n",
       "        background-size: auto;\n",
       "    }\n",
       "    progress:not([value]), progress:not([value])::-webkit-progress-bar {\n",
       "        background: repeating-linear-gradient(45deg, #7e7e7e, #7e7e7e 10px, #5c5c5c 10px, #5c5c5c 20px);\n",
       "    }\n",
       "    .progress-bar-interrupted, .progress-bar-interrupted::-webkit-progress-bar {\n",
       "        background: #F44336;\n",
       "    }\n",
       "</style>\n"
      ],
      "text/plain": [
       "<IPython.core.display.HTML object>"
      ]
     },
     "metadata": {},
     "output_type": "display_data"
    },
    {
     "data": {
      "text/html": [
       "<table border=\"1\" class=\"dataframe\">\n",
       "  <thead>\n",
       "    <tr style=\"text-align: left;\">\n",
       "      <th>epoch</th>\n",
       "      <th>train_loss</th>\n",
       "      <th>valid_loss</th>\n",
       "      <th>disease_err</th>\n",
       "      <th>variety_err</th>\n",
       "      <th>disease_loss</th>\n",
       "      <th>variety_loss</th>\n",
       "      <th>time</th>\n",
       "    </tr>\n",
       "  </thead>\n",
       "  <tbody>\n",
       "    <tr>\n",
       "      <td>0</td>\n",
       "      <td>3.314523</td>\n",
       "      <td>2.093600</td>\n",
       "      <td>0.303220</td>\n",
       "      <td>0.281595</td>\n",
       "      <td>0.943422</td>\n",
       "      <td>1.150178</td>\n",
       "      <td>00:21</td>\n",
       "    </tr>\n",
       "    <tr>\n",
       "      <td>1</td>\n",
       "      <td>2.878628</td>\n",
       "      <td>1.767328</td>\n",
       "      <td>0.264296</td>\n",
       "      <td>0.219125</td>\n",
       "      <td>0.833361</td>\n",
       "      <td>0.933967</td>\n",
       "      <td>00:21</td>\n",
       "    </tr>\n",
       "    <tr>\n",
       "      <td>2</td>\n",
       "      <td>2.398186</td>\n",
       "      <td>1.408586</td>\n",
       "      <td>0.222009</td>\n",
       "      <td>0.161461</td>\n",
       "      <td>0.712417</td>\n",
       "      <td>0.696170</td>\n",
       "      <td>00:21</td>\n",
       "    </tr>\n",
       "    <tr>\n",
       "      <td>3</td>\n",
       "      <td>1.931923</td>\n",
       "      <td>1.073153</td>\n",
       "      <td>0.194618</td>\n",
       "      <td>0.111485</td>\n",
       "      <td>0.599385</td>\n",
       "      <td>0.473768</td>\n",
       "      <td>00:21</td>\n",
       "    </tr>\n",
       "    <tr>\n",
       "      <td>4</td>\n",
       "      <td>1.543659</td>\n",
       "      <td>0.862253</td>\n",
       "      <td>0.149928</td>\n",
       "      <td>0.088419</td>\n",
       "      <td>0.502695</td>\n",
       "      <td>0.359559</td>\n",
       "      <td>00:21</td>\n",
       "    </tr>\n",
       "    <tr>\n",
       "      <td>5</td>\n",
       "      <td>1.263238</td>\n",
       "      <td>0.715658</td>\n",
       "      <td>0.137914</td>\n",
       "      <td>0.068717</td>\n",
       "      <td>0.449118</td>\n",
       "      <td>0.266540</td>\n",
       "      <td>00:21</td>\n",
       "    </tr>\n",
       "    <tr>\n",
       "      <td>6</td>\n",
       "      <td>1.048310</td>\n",
       "      <td>0.608697</td>\n",
       "      <td>0.124459</td>\n",
       "      <td>0.063431</td>\n",
       "      <td>0.393064</td>\n",
       "      <td>0.215633</td>\n",
       "      <td>00:21</td>\n",
       "    </tr>\n",
       "    <tr>\n",
       "      <td>7</td>\n",
       "      <td>0.931829</td>\n",
       "      <td>0.556393</td>\n",
       "      <td>0.103796</td>\n",
       "      <td>0.055262</td>\n",
       "      <td>0.364037</td>\n",
       "      <td>0.192356</td>\n",
       "      <td>00:21</td>\n",
       "    </tr>\n",
       "    <tr>\n",
       "      <td>8</td>\n",
       "      <td>0.859989</td>\n",
       "      <td>0.488980</td>\n",
       "      <td>0.093705</td>\n",
       "      <td>0.047093</td>\n",
       "      <td>0.326630</td>\n",
       "      <td>0.162349</td>\n",
       "      <td>00:21</td>\n",
       "    </tr>\n",
       "    <tr>\n",
       "      <td>9</td>\n",
       "      <td>0.765713</td>\n",
       "      <td>0.450339</td>\n",
       "      <td>0.095147</td>\n",
       "      <td>0.042768</td>\n",
       "      <td>0.308104</td>\n",
       "      <td>0.142235</td>\n",
       "      <td>00:21</td>\n",
       "    </tr>\n",
       "    <tr>\n",
       "      <td>10</td>\n",
       "      <td>0.709373</td>\n",
       "      <td>0.422021</td>\n",
       "      <td>0.084094</td>\n",
       "      <td>0.037001</td>\n",
       "      <td>0.286725</td>\n",
       "      <td>0.135295</td>\n",
       "      <td>00:21</td>\n",
       "    </tr>\n",
       "    <tr>\n",
       "      <td>11</td>\n",
       "      <td>0.644539</td>\n",
       "      <td>0.411927</td>\n",
       "      <td>0.087458</td>\n",
       "      <td>0.037001</td>\n",
       "      <td>0.285911</td>\n",
       "      <td>0.126016</td>\n",
       "      <td>00:21</td>\n",
       "    </tr>\n",
       "    <tr>\n",
       "      <td>12</td>\n",
       "      <td>0.647855</td>\n",
       "      <td>0.390627</td>\n",
       "      <td>0.082172</td>\n",
       "      <td>0.038443</td>\n",
       "      <td>0.270841</td>\n",
       "      <td>0.119786</td>\n",
       "      <td>00:21</td>\n",
       "    </tr>\n",
       "    <tr>\n",
       "      <td>13</td>\n",
       "      <td>0.624425</td>\n",
       "      <td>0.384690</td>\n",
       "      <td>0.079289</td>\n",
       "      <td>0.036521</td>\n",
       "      <td>0.268099</td>\n",
       "      <td>0.116591</td>\n",
       "      <td>00:21</td>\n",
       "    </tr>\n",
       "    <tr>\n",
       "      <td>14</td>\n",
       "      <td>0.610169</td>\n",
       "      <td>0.387365</td>\n",
       "      <td>0.080730</td>\n",
       "      <td>0.035079</td>\n",
       "      <td>0.270847</td>\n",
       "      <td>0.116518</td>\n",
       "      <td>00:21</td>\n",
       "    </tr>\n",
       "    <tr>\n",
       "      <td>15</td>\n",
       "      <td>0.591191</td>\n",
       "      <td>0.383442</td>\n",
       "      <td>0.082172</td>\n",
       "      <td>0.036040</td>\n",
       "      <td>0.267717</td>\n",
       "      <td>0.115725</td>\n",
       "      <td>00:21</td>\n",
       "    </tr>\n",
       "  </tbody>\n",
       "</table>"
      ],
      "text/plain": [
       "<IPython.core.display.HTML object>"
      ]
     },
     "metadata": {},
     "output_type": "display_data"
    }
   ],
   "source": [
    "learn = train_mult('convnext_small_in22k',\n",
    "                  item=Resize((256, 192), method=ResizeMethod.Pad, pad_mode=PadMode.Zeros),\n",
    "                  batch=aug_transforms(size=128, min_scale=0.75),\n",
    "                  epochs=16, lr=5e-4)"
   ]
  },
  {
   "cell_type": "code",
   "execution_count": 67,
   "metadata": {
    "tags": []
   },
   "outputs": [
    {
     "data": {
      "text/html": [
       "\n",
       "<style>\n",
       "    /* Turns off some styling */\n",
       "    progress {\n",
       "        /* gets rid of default border in Firefox and Opera. */\n",
       "        border: none;\n",
       "        /* Needs to be in here for Safari polyfill so background images work as expected. */\n",
       "        background-size: auto;\n",
       "    }\n",
       "    progress:not([value]), progress:not([value])::-webkit-progress-bar {\n",
       "        background: repeating-linear-gradient(45deg, #7e7e7e, #7e7e7e 10px, #5c5c5c 10px, #5c5c5c 20px);\n",
       "    }\n",
       "    .progress-bar-interrupted, .progress-bar-interrupted::-webkit-progress-bar {\n",
       "        background: #F44336;\n",
       "    }\n",
       "</style>\n"
      ],
      "text/plain": [
       "<IPython.core.display.HTML object>"
      ]
     },
     "metadata": {},
     "output_type": "display_data"
    },
    {
     "data": {
      "text/html": [
       "\n",
       "    <div>\n",
       "      <progress value='0' class='' max='16' style='width:300px; height:20px; vertical-align: middle;'></progress>\n",
       "      \n",
       "    </div>\n",
       "    \n"
      ],
      "text/plain": [
       "<IPython.core.display.HTML object>"
      ]
     },
     "metadata": {},
     "output_type": "display_data"
    },
    {
     "data": {
      "text/html": [
       "\n",
       "<style>\n",
       "    /* Turns off some styling */\n",
       "    progress {\n",
       "        /* gets rid of default border in Firefox and Opera. */\n",
       "        border: none;\n",
       "        /* Needs to be in here for Safari polyfill so background images work as expected. */\n",
       "        background-size: auto;\n",
       "    }\n",
       "    progress:not([value]), progress:not([value])::-webkit-progress-bar {\n",
       "        background: repeating-linear-gradient(45deg, #7e7e7e, #7e7e7e 10px, #5c5c5c 10px, #5c5c5c 20px);\n",
       "    }\n",
       "    .progress-bar-interrupted, .progress-bar-interrupted::-webkit-progress-bar {\n",
       "        background: #F44336;\n",
       "    }\n",
       "</style>\n"
      ],
      "text/plain": [
       "<IPython.core.display.HTML object>"
      ]
     },
     "metadata": {},
     "output_type": "display_data"
    },
    {
     "data": {
      "text/html": [],
      "text/plain": [
       "<IPython.core.display.HTML object>"
      ]
     },
     "metadata": {},
     "output_type": "display_data"
    },
    {
     "data": {
      "text/plain": [
       "TensorBase(0.0654)"
      ]
     },
     "execution_count": 67,
     "metadata": {},
     "output_type": "execute_result"
    }
   ],
   "source": [
    "tta_preds, targs = learn.tta(dl=learn.dls.valid)\n",
    "error_rate(tta_preds[:, :10], targs[0])"
   ]
  },
  {
   "cell_type": "code",
   "execution_count": 68,
   "metadata": {
    "tags": []
   },
   "outputs": [
    {
     "data": {
      "text/html": [
       "\n",
       "<style>\n",
       "    /* Turns off some styling */\n",
       "    progress {\n",
       "        /* gets rid of default border in Firefox and Opera. */\n",
       "        border: none;\n",
       "        /* Needs to be in here for Safari polyfill so background images work as expected. */\n",
       "        background-size: auto;\n",
       "    }\n",
       "    progress:not([value]), progress:not([value])::-webkit-progress-bar {\n",
       "        background: repeating-linear-gradient(45deg, #7e7e7e, #7e7e7e 10px, #5c5c5c 10px, #5c5c5c 20px);\n",
       "    }\n",
       "    .progress-bar-interrupted, .progress-bar-interrupted::-webkit-progress-bar {\n",
       "        background: #F44336;\n",
       "    }\n",
       "</style>\n"
      ],
      "text/plain": [
       "<IPython.core.display.HTML object>"
      ]
     },
     "metadata": {},
     "output_type": "display_data"
    },
    {
     "data": {
      "text/html": [
       "<table border=\"1\" class=\"dataframe\">\n",
       "  <thead>\n",
       "    <tr style=\"text-align: left;\">\n",
       "      <th>epoch</th>\n",
       "      <th>train_loss</th>\n",
       "      <th>valid_loss</th>\n",
       "      <th>disease_err</th>\n",
       "      <th>variety_err</th>\n",
       "      <th>disease_loss</th>\n",
       "      <th>variety_loss</th>\n",
       "      <th>time</th>\n",
       "    </tr>\n",
       "  </thead>\n",
       "  <tbody>\n",
       "    <tr>\n",
       "      <td>0</td>\n",
       "      <td>3.962033</td>\n",
       "      <td>1.843152</td>\n",
       "      <td>0.288803</td>\n",
       "      <td>0.239308</td>\n",
       "      <td>0.865938</td>\n",
       "      <td>0.977214</td>\n",
       "      <td>00:15</td>\n",
       "    </tr>\n",
       "  </tbody>\n",
       "</table>"
      ],
      "text/plain": [
       "<IPython.core.display.HTML object>"
      ]
     },
     "metadata": {},
     "output_type": "display_data"
    },
    {
     "data": {
      "text/html": [
       "\n",
       "<style>\n",
       "    /* Turns off some styling */\n",
       "    progress {\n",
       "        /* gets rid of default border in Firefox and Opera. */\n",
       "        border: none;\n",
       "        /* Needs to be in here for Safari polyfill so background images work as expected. */\n",
       "        background-size: auto;\n",
       "    }\n",
       "    progress:not([value]), progress:not([value])::-webkit-progress-bar {\n",
       "        background: repeating-linear-gradient(45deg, #7e7e7e, #7e7e7e 10px, #5c5c5c 10px, #5c5c5c 20px);\n",
       "    }\n",
       "    .progress-bar-interrupted, .progress-bar-interrupted::-webkit-progress-bar {\n",
       "        background: #F44336;\n",
       "    }\n",
       "</style>\n"
      ],
      "text/plain": [
       "<IPython.core.display.HTML object>"
      ]
     },
     "metadata": {},
     "output_type": "display_data"
    },
    {
     "data": {
      "text/html": [
       "<table border=\"1\" class=\"dataframe\">\n",
       "  <thead>\n",
       "    <tr style=\"text-align: left;\">\n",
       "      <th>epoch</th>\n",
       "      <th>train_loss</th>\n",
       "      <th>valid_loss</th>\n",
       "      <th>disease_err</th>\n",
       "      <th>variety_err</th>\n",
       "      <th>disease_loss</th>\n",
       "      <th>variety_loss</th>\n",
       "      <th>time</th>\n",
       "    </tr>\n",
       "  </thead>\n",
       "  <tbody>\n",
       "    <tr>\n",
       "      <td>0</td>\n",
       "      <td>2.429832</td>\n",
       "      <td>1.394634</td>\n",
       "      <td>0.244594</td>\n",
       "      <td>0.156175</td>\n",
       "      <td>0.716804</td>\n",
       "      <td>0.677830</td>\n",
       "      <td>00:21</td>\n",
       "    </tr>\n",
       "    <tr>\n",
       "      <td>1</td>\n",
       "      <td>2.044289</td>\n",
       "      <td>1.064543</td>\n",
       "      <td>0.188852</td>\n",
       "      <td>0.118212</td>\n",
       "      <td>0.588057</td>\n",
       "      <td>0.476486</td>\n",
       "      <td>00:21</td>\n",
       "    </tr>\n",
       "    <tr>\n",
       "      <td>2</td>\n",
       "      <td>1.572681</td>\n",
       "      <td>0.799125</td>\n",
       "      <td>0.161941</td>\n",
       "      <td>0.076886</td>\n",
       "      <td>0.500286</td>\n",
       "      <td>0.298839</td>\n",
       "      <td>00:21</td>\n",
       "    </tr>\n",
       "    <tr>\n",
       "      <td>3</td>\n",
       "      <td>1.196739</td>\n",
       "      <td>0.615965</td>\n",
       "      <td>0.132148</td>\n",
       "      <td>0.060548</td>\n",
       "      <td>0.402318</td>\n",
       "      <td>0.213647</td>\n",
       "      <td>00:21</td>\n",
       "    </tr>\n",
       "    <tr>\n",
       "      <td>4</td>\n",
       "      <td>0.980479</td>\n",
       "      <td>0.510409</td>\n",
       "      <td>0.113407</td>\n",
       "      <td>0.041326</td>\n",
       "      <td>0.358473</td>\n",
       "      <td>0.151936</td>\n",
       "      <td>00:21</td>\n",
       "    </tr>\n",
       "    <tr>\n",
       "      <td>5</td>\n",
       "      <td>0.795201</td>\n",
       "      <td>0.421792</td>\n",
       "      <td>0.101874</td>\n",
       "      <td>0.037482</td>\n",
       "      <td>0.308016</td>\n",
       "      <td>0.113776</td>\n",
       "      <td>00:21</td>\n",
       "    </tr>\n",
       "    <tr>\n",
       "      <td>6</td>\n",
       "      <td>0.674662</td>\n",
       "      <td>0.358700</td>\n",
       "      <td>0.086016</td>\n",
       "      <td>0.028832</td>\n",
       "      <td>0.262748</td>\n",
       "      <td>0.095952</td>\n",
       "      <td>00:21</td>\n",
       "    </tr>\n",
       "    <tr>\n",
       "      <td>7</td>\n",
       "      <td>0.604163</td>\n",
       "      <td>0.314924</td>\n",
       "      <td>0.073042</td>\n",
       "      <td>0.026430</td>\n",
       "      <td>0.232256</td>\n",
       "      <td>0.082667</td>\n",
       "      <td>00:21</td>\n",
       "    </tr>\n",
       "    <tr>\n",
       "      <td>8</td>\n",
       "      <td>0.530215</td>\n",
       "      <td>0.280155</td>\n",
       "      <td>0.068717</td>\n",
       "      <td>0.019702</td>\n",
       "      <td>0.212753</td>\n",
       "      <td>0.067402</td>\n",
       "      <td>00:21</td>\n",
       "    </tr>\n",
       "    <tr>\n",
       "      <td>9</td>\n",
       "      <td>0.458826</td>\n",
       "      <td>0.251857</td>\n",
       "      <td>0.061509</td>\n",
       "      <td>0.016338</td>\n",
       "      <td>0.193361</td>\n",
       "      <td>0.058497</td>\n",
       "      <td>00:21</td>\n",
       "    </tr>\n",
       "    <tr>\n",
       "      <td>10</td>\n",
       "      <td>0.414442</td>\n",
       "      <td>0.229931</td>\n",
       "      <td>0.053340</td>\n",
       "      <td>0.017780</td>\n",
       "      <td>0.176575</td>\n",
       "      <td>0.053356</td>\n",
       "      <td>00:21</td>\n",
       "    </tr>\n",
       "    <tr>\n",
       "      <td>11</td>\n",
       "      <td>0.375969</td>\n",
       "      <td>0.223569</td>\n",
       "      <td>0.051898</td>\n",
       "      <td>0.017299</td>\n",
       "      <td>0.172366</td>\n",
       "      <td>0.051204</td>\n",
       "      <td>00:21</td>\n",
       "    </tr>\n",
       "    <tr>\n",
       "      <td>12</td>\n",
       "      <td>0.353609</td>\n",
       "      <td>0.214650</td>\n",
       "      <td>0.052379</td>\n",
       "      <td>0.013455</td>\n",
       "      <td>0.166315</td>\n",
       "      <td>0.048335</td>\n",
       "      <td>00:21</td>\n",
       "    </tr>\n",
       "    <tr>\n",
       "      <td>13</td>\n",
       "      <td>0.337121</td>\n",
       "      <td>0.209553</td>\n",
       "      <td>0.051418</td>\n",
       "      <td>0.014416</td>\n",
       "      <td>0.161997</td>\n",
       "      <td>0.047557</td>\n",
       "      <td>00:21</td>\n",
       "    </tr>\n",
       "    <tr>\n",
       "      <td>14</td>\n",
       "      <td>0.343435</td>\n",
       "      <td>0.206404</td>\n",
       "      <td>0.051418</td>\n",
       "      <td>0.013455</td>\n",
       "      <td>0.160844</td>\n",
       "      <td>0.045560</td>\n",
       "      <td>00:21</td>\n",
       "    </tr>\n",
       "    <tr>\n",
       "      <td>15</td>\n",
       "      <td>0.317501</td>\n",
       "      <td>0.207021</td>\n",
       "      <td>0.050457</td>\n",
       "      <td>0.013455</td>\n",
       "      <td>0.162776</td>\n",
       "      <td>0.044246</td>\n",
       "      <td>00:21</td>\n",
       "    </tr>\n",
       "  </tbody>\n",
       "</table>"
      ],
      "text/plain": [
       "<IPython.core.display.HTML object>"
      ]
     },
     "metadata": {},
     "output_type": "display_data"
    }
   ],
   "source": [
    "learn = train_mult('convnext_small_in22k',\n",
    "                  item=Resize((256, 192), method=ResizeMethod.Pad, pad_mode=PadMode.Zeros),\n",
    "                  batch=aug_transforms(size=128, min_scale=0.75),\n",
    "                  epochs=16, lr=1e-3)"
   ]
  },
  {
   "cell_type": "code",
   "execution_count": 69,
   "metadata": {
    "tags": []
   },
   "outputs": [
    {
     "data": {
      "text/html": [
       "\n",
       "<style>\n",
       "    /* Turns off some styling */\n",
       "    progress {\n",
       "        /* gets rid of default border in Firefox and Opera. */\n",
       "        border: none;\n",
       "        /* Needs to be in here for Safari polyfill so background images work as expected. */\n",
       "        background-size: auto;\n",
       "    }\n",
       "    progress:not([value]), progress:not([value])::-webkit-progress-bar {\n",
       "        background: repeating-linear-gradient(45deg, #7e7e7e, #7e7e7e 10px, #5c5c5c 10px, #5c5c5c 20px);\n",
       "    }\n",
       "    .progress-bar-interrupted, .progress-bar-interrupted::-webkit-progress-bar {\n",
       "        background: #F44336;\n",
       "    }\n",
       "</style>\n"
      ],
      "text/plain": [
       "<IPython.core.display.HTML object>"
      ]
     },
     "metadata": {},
     "output_type": "display_data"
    },
    {
     "data": {
      "text/html": [
       "\n",
       "    <div>\n",
       "      <progress value='0' class='' max='16' style='width:300px; height:20px; vertical-align: middle;'></progress>\n",
       "      \n",
       "    </div>\n",
       "    \n"
      ],
      "text/plain": [
       "<IPython.core.display.HTML object>"
      ]
     },
     "metadata": {},
     "output_type": "display_data"
    },
    {
     "data": {
      "text/html": [
       "\n",
       "<style>\n",
       "    /* Turns off some styling */\n",
       "    progress {\n",
       "        /* gets rid of default border in Firefox and Opera. */\n",
       "        border: none;\n",
       "        /* Needs to be in here for Safari polyfill so background images work as expected. */\n",
       "        background-size: auto;\n",
       "    }\n",
       "    progress:not([value]), progress:not([value])::-webkit-progress-bar {\n",
       "        background: repeating-linear-gradient(45deg, #7e7e7e, #7e7e7e 10px, #5c5c5c 10px, #5c5c5c 20px);\n",
       "    }\n",
       "    .progress-bar-interrupted, .progress-bar-interrupted::-webkit-progress-bar {\n",
       "        background: #F44336;\n",
       "    }\n",
       "</style>\n"
      ],
      "text/plain": [
       "<IPython.core.display.HTML object>"
      ]
     },
     "metadata": {},
     "output_type": "display_data"
    },
    {
     "data": {
      "text/html": [],
      "text/plain": [
       "<IPython.core.display.HTML object>"
      ]
     },
     "metadata": {},
     "output_type": "display_data"
    },
    {
     "data": {
      "text/plain": [
       "TensorBase(0.0461)"
      ]
     },
     "execution_count": 69,
     "metadata": {},
     "output_type": "execute_result"
    }
   ],
   "source": [
    "tta_preds, targs = learn.tta(dl=learn.dls.valid)\n",
    "error_rate(tta_preds[:, :10], targs[0])"
   ]
  },
  {
   "cell_type": "code",
   "execution_count": 70,
   "metadata": {
    "tags": []
   },
   "outputs": [
    {
     "data": {
      "text/html": [
       "\n",
       "<style>\n",
       "    /* Turns off some styling */\n",
       "    progress {\n",
       "        /* gets rid of default border in Firefox and Opera. */\n",
       "        border: none;\n",
       "        /* Needs to be in here for Safari polyfill so background images work as expected. */\n",
       "        background-size: auto;\n",
       "    }\n",
       "    progress:not([value]), progress:not([value])::-webkit-progress-bar {\n",
       "        background: repeating-linear-gradient(45deg, #7e7e7e, #7e7e7e 10px, #5c5c5c 10px, #5c5c5c 20px);\n",
       "    }\n",
       "    .progress-bar-interrupted, .progress-bar-interrupted::-webkit-progress-bar {\n",
       "        background: #F44336;\n",
       "    }\n",
       "</style>\n"
      ],
      "text/plain": [
       "<IPython.core.display.HTML object>"
      ]
     },
     "metadata": {},
     "output_type": "display_data"
    },
    {
     "data": {
      "text/html": [
       "<table border=\"1\" class=\"dataframe\">\n",
       "  <thead>\n",
       "    <tr style=\"text-align: left;\">\n",
       "      <th>epoch</th>\n",
       "      <th>train_loss</th>\n",
       "      <th>valid_loss</th>\n",
       "      <th>disease_err</th>\n",
       "      <th>variety_err</th>\n",
       "      <th>disease_loss</th>\n",
       "      <th>variety_loss</th>\n",
       "      <th>time</th>\n",
       "    </tr>\n",
       "  </thead>\n",
       "  <tbody>\n",
       "    <tr>\n",
       "      <td>0</td>\n",
       "      <td>3.854812</td>\n",
       "      <td>1.780372</td>\n",
       "      <td>0.302739</td>\n",
       "      <td>0.209034</td>\n",
       "      <td>0.930031</td>\n",
       "      <td>0.850340</td>\n",
       "      <td>00:15</td>\n",
       "    </tr>\n",
       "  </tbody>\n",
       "</table>"
      ],
      "text/plain": [
       "<IPython.core.display.HTML object>"
      ]
     },
     "metadata": {},
     "output_type": "display_data"
    },
    {
     "data": {
      "text/html": [
       "\n",
       "<style>\n",
       "    /* Turns off some styling */\n",
       "    progress {\n",
       "        /* gets rid of default border in Firefox and Opera. */\n",
       "        border: none;\n",
       "        /* Needs to be in here for Safari polyfill so background images work as expected. */\n",
       "        background-size: auto;\n",
       "    }\n",
       "    progress:not([value]), progress:not([value])::-webkit-progress-bar {\n",
       "        background: repeating-linear-gradient(45deg, #7e7e7e, #7e7e7e 10px, #5c5c5c 10px, #5c5c5c 20px);\n",
       "    }\n",
       "    .progress-bar-interrupted, .progress-bar-interrupted::-webkit-progress-bar {\n",
       "        background: #F44336;\n",
       "    }\n",
       "</style>\n"
      ],
      "text/plain": [
       "<IPython.core.display.HTML object>"
      ]
     },
     "metadata": {},
     "output_type": "display_data"
    },
    {
     "data": {
      "text/html": [
       "<table border=\"1\" class=\"dataframe\">\n",
       "  <thead>\n",
       "    <tr style=\"text-align: left;\">\n",
       "      <th>epoch</th>\n",
       "      <th>train_loss</th>\n",
       "      <th>valid_loss</th>\n",
       "      <th>disease_err</th>\n",
       "      <th>variety_err</th>\n",
       "      <th>disease_loss</th>\n",
       "      <th>variety_loss</th>\n",
       "      <th>time</th>\n",
       "    </tr>\n",
       "  </thead>\n",
       "  <tbody>\n",
       "    <tr>\n",
       "      <td>0</td>\n",
       "      <td>2.432223</td>\n",
       "      <td>1.493997</td>\n",
       "      <td>0.256607</td>\n",
       "      <td>0.168669</td>\n",
       "      <td>0.782548</td>\n",
       "      <td>0.711449</td>\n",
       "      <td>00:21</td>\n",
       "    </tr>\n",
       "    <tr>\n",
       "      <td>1</td>\n",
       "      <td>2.082455</td>\n",
       "      <td>1.211468</td>\n",
       "      <td>0.215281</td>\n",
       "      <td>0.123498</td>\n",
       "      <td>0.675602</td>\n",
       "      <td>0.535866</td>\n",
       "      <td>00:21</td>\n",
       "    </tr>\n",
       "    <tr>\n",
       "      <td>2</td>\n",
       "      <td>1.705047</td>\n",
       "      <td>0.969989</td>\n",
       "      <td>0.175877</td>\n",
       "      <td>0.096588</td>\n",
       "      <td>0.572456</td>\n",
       "      <td>0.397533</td>\n",
       "      <td>00:21</td>\n",
       "    </tr>\n",
       "    <tr>\n",
       "      <td>3</td>\n",
       "      <td>1.370126</td>\n",
       "      <td>0.780604</td>\n",
       "      <td>0.149928</td>\n",
       "      <td>0.083133</td>\n",
       "      <td>0.480733</td>\n",
       "      <td>0.299871</td>\n",
       "      <td>00:21</td>\n",
       "    </tr>\n",
       "    <tr>\n",
       "      <td>4</td>\n",
       "      <td>1.085103</td>\n",
       "      <td>0.646949</td>\n",
       "      <td>0.125901</td>\n",
       "      <td>0.064873</td>\n",
       "      <td>0.419885</td>\n",
       "      <td>0.227064</td>\n",
       "      <td>00:21</td>\n",
       "    </tr>\n",
       "    <tr>\n",
       "      <td>5</td>\n",
       "      <td>0.872348</td>\n",
       "      <td>0.533792</td>\n",
       "      <td>0.110524</td>\n",
       "      <td>0.057665</td>\n",
       "      <td>0.354765</td>\n",
       "      <td>0.179027</td>\n",
       "      <td>00:21</td>\n",
       "    </tr>\n",
       "    <tr>\n",
       "      <td>6</td>\n",
       "      <td>0.781596</td>\n",
       "      <td>0.470501</td>\n",
       "      <td>0.098030</td>\n",
       "      <td>0.048054</td>\n",
       "      <td>0.312594</td>\n",
       "      <td>0.157907</td>\n",
       "      <td>00:21</td>\n",
       "    </tr>\n",
       "    <tr>\n",
       "      <td>7</td>\n",
       "      <td>0.641501</td>\n",
       "      <td>0.405453</td>\n",
       "      <td>0.087938</td>\n",
       "      <td>0.043248</td>\n",
       "      <td>0.281310</td>\n",
       "      <td>0.124143</td>\n",
       "      <td>00:21</td>\n",
       "    </tr>\n",
       "    <tr>\n",
       "      <td>8</td>\n",
       "      <td>0.573558</td>\n",
       "      <td>0.347444</td>\n",
       "      <td>0.077367</td>\n",
       "      <td>0.035560</td>\n",
       "      <td>0.242024</td>\n",
       "      <td>0.105420</td>\n",
       "      <td>00:21</td>\n",
       "    </tr>\n",
       "    <tr>\n",
       "      <td>9</td>\n",
       "      <td>0.493325</td>\n",
       "      <td>0.300661</td>\n",
       "      <td>0.062470</td>\n",
       "      <td>0.031235</td>\n",
       "      <td>0.203217</td>\n",
       "      <td>0.097444</td>\n",
       "      <td>00:21</td>\n",
       "    </tr>\n",
       "    <tr>\n",
       "      <td>10</td>\n",
       "      <td>0.433770</td>\n",
       "      <td>0.281056</td>\n",
       "      <td>0.065353</td>\n",
       "      <td>0.025949</td>\n",
       "      <td>0.199796</td>\n",
       "      <td>0.081260</td>\n",
       "      <td>00:21</td>\n",
       "    </tr>\n",
       "    <tr>\n",
       "      <td>11</td>\n",
       "      <td>0.378112</td>\n",
       "      <td>0.253331</td>\n",
       "      <td>0.056704</td>\n",
       "      <td>0.020183</td>\n",
       "      <td>0.181740</td>\n",
       "      <td>0.071591</td>\n",
       "      <td>00:21</td>\n",
       "    </tr>\n",
       "    <tr>\n",
       "      <td>12</td>\n",
       "      <td>0.334837</td>\n",
       "      <td>0.229299</td>\n",
       "      <td>0.052379</td>\n",
       "      <td>0.017299</td>\n",
       "      <td>0.163885</td>\n",
       "      <td>0.065414</td>\n",
       "      <td>00:21</td>\n",
       "    </tr>\n",
       "    <tr>\n",
       "      <td>13</td>\n",
       "      <td>0.315283</td>\n",
       "      <td>0.224813</td>\n",
       "      <td>0.051898</td>\n",
       "      <td>0.017780</td>\n",
       "      <td>0.161457</td>\n",
       "      <td>0.063357</td>\n",
       "      <td>00:21</td>\n",
       "    </tr>\n",
       "    <tr>\n",
       "      <td>14</td>\n",
       "      <td>0.292306</td>\n",
       "      <td>0.213394</td>\n",
       "      <td>0.046612</td>\n",
       "      <td>0.018741</td>\n",
       "      <td>0.150203</td>\n",
       "      <td>0.063191</td>\n",
       "      <td>00:21</td>\n",
       "    </tr>\n",
       "    <tr>\n",
       "      <td>15</td>\n",
       "      <td>0.263057</td>\n",
       "      <td>0.205384</td>\n",
       "      <td>0.046132</td>\n",
       "      <td>0.019702</td>\n",
       "      <td>0.142684</td>\n",
       "      <td>0.062700</td>\n",
       "      <td>00:21</td>\n",
       "    </tr>\n",
       "    <tr>\n",
       "      <td>16</td>\n",
       "      <td>0.249620</td>\n",
       "      <td>0.197361</td>\n",
       "      <td>0.046612</td>\n",
       "      <td>0.017780</td>\n",
       "      <td>0.140110</td>\n",
       "      <td>0.057252</td>\n",
       "      <td>00:21</td>\n",
       "    </tr>\n",
       "    <tr>\n",
       "      <td>17</td>\n",
       "      <td>0.226730</td>\n",
       "      <td>0.193228</td>\n",
       "      <td>0.042287</td>\n",
       "      <td>0.019702</td>\n",
       "      <td>0.138255</td>\n",
       "      <td>0.054972</td>\n",
       "      <td>00:21</td>\n",
       "    </tr>\n",
       "    <tr>\n",
       "      <td>18</td>\n",
       "      <td>0.217500</td>\n",
       "      <td>0.188130</td>\n",
       "      <td>0.045651</td>\n",
       "      <td>0.019222</td>\n",
       "      <td>0.135509</td>\n",
       "      <td>0.052621</td>\n",
       "      <td>00:21</td>\n",
       "    </tr>\n",
       "    <tr>\n",
       "      <td>19</td>\n",
       "      <td>0.202846</td>\n",
       "      <td>0.184879</td>\n",
       "      <td>0.043729</td>\n",
       "      <td>0.017299</td>\n",
       "      <td>0.133017</td>\n",
       "      <td>0.051862</td>\n",
       "      <td>00:21</td>\n",
       "    </tr>\n",
       "    <tr>\n",
       "      <td>20</td>\n",
       "      <td>0.198903</td>\n",
       "      <td>0.183611</td>\n",
       "      <td>0.043248</td>\n",
       "      <td>0.018741</td>\n",
       "      <td>0.130777</td>\n",
       "      <td>0.052834</td>\n",
       "      <td>00:21</td>\n",
       "    </tr>\n",
       "    <tr>\n",
       "      <td>21</td>\n",
       "      <td>0.198245</td>\n",
       "      <td>0.185603</td>\n",
       "      <td>0.043248</td>\n",
       "      <td>0.016338</td>\n",
       "      <td>0.134532</td>\n",
       "      <td>0.051071</td>\n",
       "      <td>00:21</td>\n",
       "    </tr>\n",
       "    <tr>\n",
       "      <td>22</td>\n",
       "      <td>0.190100</td>\n",
       "      <td>0.182247</td>\n",
       "      <td>0.040365</td>\n",
       "      <td>0.017780</td>\n",
       "      <td>0.130618</td>\n",
       "      <td>0.051629</td>\n",
       "      <td>00:21</td>\n",
       "    </tr>\n",
       "    <tr>\n",
       "      <td>23</td>\n",
       "      <td>0.185859</td>\n",
       "      <td>0.181206</td>\n",
       "      <td>0.042287</td>\n",
       "      <td>0.017780</td>\n",
       "      <td>0.129429</td>\n",
       "      <td>0.051777</td>\n",
       "      <td>00:21</td>\n",
       "    </tr>\n",
       "  </tbody>\n",
       "</table>"
      ],
      "text/plain": [
       "<IPython.core.display.HTML object>"
      ]
     },
     "metadata": {},
     "output_type": "display_data"
    }
   ],
   "source": [
    "learn = train_mult('convnext_small_in22k',\n",
    "                  item=Resize((256, 192), method=ResizeMethod.Pad, pad_mode=PadMode.Zeros),\n",
    "                  batch=aug_transforms(size=128, min_scale=0.75),\n",
    "                  epochs=24, lr=1e-3)"
   ]
  },
  {
   "cell_type": "code",
   "execution_count": 71,
   "metadata": {
    "tags": []
   },
   "outputs": [
    {
     "data": {
      "text/html": [
       "\n",
       "<style>\n",
       "    /* Turns off some styling */\n",
       "    progress {\n",
       "        /* gets rid of default border in Firefox and Opera. */\n",
       "        border: none;\n",
       "        /* Needs to be in here for Safari polyfill so background images work as expected. */\n",
       "        background-size: auto;\n",
       "    }\n",
       "    progress:not([value]), progress:not([value])::-webkit-progress-bar {\n",
       "        background: repeating-linear-gradient(45deg, #7e7e7e, #7e7e7e 10px, #5c5c5c 10px, #5c5c5c 20px);\n",
       "    }\n",
       "    .progress-bar-interrupted, .progress-bar-interrupted::-webkit-progress-bar {\n",
       "        background: #F44336;\n",
       "    }\n",
       "</style>\n"
      ],
      "text/plain": [
       "<IPython.core.display.HTML object>"
      ]
     },
     "metadata": {},
     "output_type": "display_data"
    },
    {
     "data": {
      "text/html": [
       "\n",
       "    <div>\n",
       "      <progress value='0' class='' max='24' style='width:300px; height:20px; vertical-align: middle;'></progress>\n",
       "      \n",
       "    </div>\n",
       "    \n"
      ],
      "text/plain": [
       "<IPython.core.display.HTML object>"
      ]
     },
     "metadata": {},
     "output_type": "display_data"
    },
    {
     "data": {
      "text/html": [
       "\n",
       "<style>\n",
       "    /* Turns off some styling */\n",
       "    progress {\n",
       "        /* gets rid of default border in Firefox and Opera. */\n",
       "        border: none;\n",
       "        /* Needs to be in here for Safari polyfill so background images work as expected. */\n",
       "        background-size: auto;\n",
       "    }\n",
       "    progress:not([value]), progress:not([value])::-webkit-progress-bar {\n",
       "        background: repeating-linear-gradient(45deg, #7e7e7e, #7e7e7e 10px, #5c5c5c 10px, #5c5c5c 20px);\n",
       "    }\n",
       "    .progress-bar-interrupted, .progress-bar-interrupted::-webkit-progress-bar {\n",
       "        background: #F44336;\n",
       "    }\n",
       "</style>\n"
      ],
      "text/plain": [
       "<IPython.core.display.HTML object>"
      ]
     },
     "metadata": {},
     "output_type": "display_data"
    },
    {
     "data": {
      "text/html": [],
      "text/plain": [
       "<IPython.core.display.HTML object>"
      ]
     },
     "metadata": {},
     "output_type": "display_data"
    },
    {
     "data": {
      "text/plain": [
       "TensorBase(0.0360)"
      ]
     },
     "execution_count": 71,
     "metadata": {},
     "output_type": "execute_result"
    }
   ],
   "source": [
    "tta_preds, targs = learn.tta(dl=learn.dls.valid)\n",
    "error_rate(tta_preds[:, :10], targs[0])"
   ]
  },
  {
   "cell_type": "code",
   "execution_count": 65,
   "metadata": {
    "tags": []
   },
   "outputs": [
    {
     "data": {
      "text/html": [
       "\n",
       "<style>\n",
       "    /* Turns off some styling */\n",
       "    progress {\n",
       "        /* gets rid of default border in Firefox and Opera. */\n",
       "        border: none;\n",
       "        /* Needs to be in here for Safari polyfill so background images work as expected. */\n",
       "        background-size: auto;\n",
       "    }\n",
       "    progress:not([value]), progress:not([value])::-webkit-progress-bar {\n",
       "        background: repeating-linear-gradient(45deg, #7e7e7e, #7e7e7e 10px, #5c5c5c 10px, #5c5c5c 20px);\n",
       "    }\n",
       "    .progress-bar-interrupted, .progress-bar-interrupted::-webkit-progress-bar {\n",
       "        background: #F44336;\n",
       "    }\n",
       "</style>\n"
      ],
      "text/plain": [
       "<IPython.core.display.HTML object>"
      ]
     },
     "metadata": {},
     "output_type": "display_data"
    },
    {
     "data": {
      "text/html": [],
      "text/plain": [
       "<IPython.core.display.HTML object>"
      ]
     },
     "metadata": {},
     "output_type": "display_data"
    },
    {
     "data": {
      "text/plain": [
       "SuggestedLRs(slide=7.585775892948732e-05, valley=9.120108734350652e-05)"
      ]
     },
     "execution_count": 65,
     "metadata": {},
     "output_type": "execute_result"
    },
    {
     "data": {
      "image/png": "[encoded data removed]",
      "text/plain": [
       "<Figure size 640x480 with 1 Axes>"
      ]
     },
     "metadata": {},
     "output_type": "display_data"
    }
   ],
   "source": [
    "learn.lr_find(suggest_funcs=(slide, valley))"
   ]
  },
  {
   "cell_type": "code",
   "execution_count": 51,
   "metadata": {
    "tags": []
   },
   "outputs": [],
   "source": [
    "trn_path = path / 'train_images'"
   ]
  },
  {
   "cell_type": "code",
   "execution_count": 52,
   "metadata": {
    "tags": []
   },
   "outputs": [
    {
     "data": {
      "text/html": [
       "\n",
       "<style>\n",
       "    /* Turns off some styling */\n",
       "    progress {\n",
       "        /* gets rid of default border in Firefox and Opera. */\n",
       "        border: none;\n",
       "        /* Needs to be in here for Safari polyfill so background images work as expected. */\n",
       "        background-size: auto;\n",
       "    }\n",
       "    progress:not([value]), progress:not([value])::-webkit-progress-bar {\n",
       "        background: repeating-linear-gradient(45deg, #7e7e7e, #7e7e7e 10px, #5c5c5c 10px, #5c5c5c 20px);\n",
       "    }\n",
       "    .progress-bar-interrupted, .progress-bar-interrupted::-webkit-progress-bar {\n",
       "        background: #F44336;\n",
       "    }\n",
       "</style>\n"
      ],
      "text/plain": [
       "<IPython.core.display.HTML object>"
      ]
     },
     "metadata": {},
     "output_type": "display_data"
    },
    {
     "data": {
      "text/html": [
       "<table border=\"1\" class=\"dataframe\">\n",
       "  <thead>\n",
       "    <tr style=\"text-align: left;\">\n",
       "      <th>epoch</th>\n",
       "      <th>train_loss</th>\n",
       "      <th>valid_loss</th>\n",
       "      <th>disease_err</th>\n",
       "      <th>variety_err</th>\n",
       "      <th>disease_loss</th>\n",
       "      <th>variety_loss</th>\n",
       "      <th>time</th>\n",
       "    </tr>\n",
       "  </thead>\n",
       "  <tbody>\n",
       "    <tr>\n",
       "      <td>0</td>\n",
       "      <td>2.335374</td>\n",
       "      <td>1.119459</td>\n",
       "      <td>0.238347</td>\n",
       "      <td>0.127823</td>\n",
       "      <td>0.730059</td>\n",
       "      <td>0.389399</td>\n",
       "      <td>00:18</td>\n",
       "    </tr>\n",
       "  </tbody>\n",
       "</table>"
      ],
      "text/plain": [
       "<IPython.core.display.HTML object>"
      ]
     },
     "metadata": {},
     "output_type": "display_data"
    },
    {
     "data": {
      "text/html": [
       "\n",
       "<style>\n",
       "    /* Turns off some styling */\n",
       "    progress {\n",
       "        /* gets rid of default border in Firefox and Opera. */\n",
       "        border: none;\n",
       "        /* Needs to be in here for Safari polyfill so background images work as expected. */\n",
       "        background-size: auto;\n",
       "    }\n",
       "    progress:not([value]), progress:not([value])::-webkit-progress-bar {\n",
       "        background: repeating-linear-gradient(45deg, #7e7e7e, #7e7e7e 10px, #5c5c5c 10px, #5c5c5c 20px);\n",
       "    }\n",
       "    .progress-bar-interrupted, .progress-bar-interrupted::-webkit-progress-bar {\n",
       "        background: #F44336;\n",
       "    }\n",
       "</style>\n"
      ],
      "text/plain": [
       "<IPython.core.display.HTML object>"
      ]
     },
     "metadata": {},
     "output_type": "display_data"
    },
    {
     "data": {
      "text/html": [
       "<table border=\"1\" class=\"dataframe\">\n",
       "  <thead>\n",
       "    <tr style=\"text-align: left;\">\n",
       "      <th>epoch</th>\n",
       "      <th>train_loss</th>\n",
       "      <th>valid_loss</th>\n",
       "      <th>disease_err</th>\n",
       "      <th>variety_err</th>\n",
       "      <th>disease_loss</th>\n",
       "      <th>variety_loss</th>\n",
       "      <th>time</th>\n",
       "    </tr>\n",
       "  </thead>\n",
       "  <tbody>\n",
       "    <tr>\n",
       "      <td>0</td>\n",
       "      <td>1.007303</td>\n",
       "      <td>0.549659</td>\n",
       "      <td>0.123018</td>\n",
       "      <td>0.051418</td>\n",
       "      <td>0.393449</td>\n",
       "      <td>0.156210</td>\n",
       "      <td>00:23</td>\n",
       "    </tr>\n",
       "    <tr>\n",
       "      <td>1</td>\n",
       "      <td>0.727374</td>\n",
       "      <td>0.394368</td>\n",
       "      <td>0.088900</td>\n",
       "      <td>0.028832</td>\n",
       "      <td>0.301171</td>\n",
       "      <td>0.093196</td>\n",
       "      <td>00:23</td>\n",
       "    </tr>\n",
       "    <tr>\n",
       "      <td>2</td>\n",
       "      <td>0.602785</td>\n",
       "      <td>0.359681</td>\n",
       "      <td>0.080730</td>\n",
       "      <td>0.032677</td>\n",
       "      <td>0.253762</td>\n",
       "      <td>0.105919</td>\n",
       "      <td>00:23</td>\n",
       "    </tr>\n",
       "    <tr>\n",
       "      <td>3</td>\n",
       "      <td>0.548289</td>\n",
       "      <td>0.431808</td>\n",
       "      <td>0.093224</td>\n",
       "      <td>0.045651</td>\n",
       "      <td>0.299129</td>\n",
       "      <td>0.132680</td>\n",
       "      <td>00:23</td>\n",
       "    </tr>\n",
       "    <tr>\n",
       "      <td>4</td>\n",
       "      <td>0.452364</td>\n",
       "      <td>0.360945</td>\n",
       "      <td>0.088900</td>\n",
       "      <td>0.020183</td>\n",
       "      <td>0.304039</td>\n",
       "      <td>0.056906</td>\n",
       "      <td>00:23</td>\n",
       "    </tr>\n",
       "    <tr>\n",
       "      <td>5</td>\n",
       "      <td>0.375995</td>\n",
       "      <td>0.248001</td>\n",
       "      <td>0.065353</td>\n",
       "      <td>0.012013</td>\n",
       "      <td>0.207696</td>\n",
       "      <td>0.040306</td>\n",
       "      <td>00:23</td>\n",
       "    </tr>\n",
       "    <tr>\n",
       "      <td>6</td>\n",
       "      <td>0.301634</td>\n",
       "      <td>0.188373</td>\n",
       "      <td>0.054301</td>\n",
       "      <td>0.012975</td>\n",
       "      <td>0.154726</td>\n",
       "      <td>0.033647</td>\n",
       "      <td>00:23</td>\n",
       "    </tr>\n",
       "    <tr>\n",
       "      <td>7</td>\n",
       "      <td>0.272253</td>\n",
       "      <td>0.185927</td>\n",
       "      <td>0.049976</td>\n",
       "      <td>0.009130</td>\n",
       "      <td>0.162961</td>\n",
       "      <td>0.022967</td>\n",
       "      <td>00:23</td>\n",
       "    </tr>\n",
       "    <tr>\n",
       "      <td>8</td>\n",
       "      <td>0.212756</td>\n",
       "      <td>0.160976</td>\n",
       "      <td>0.037963</td>\n",
       "      <td>0.007208</td>\n",
       "      <td>0.143784</td>\n",
       "      <td>0.017192</td>\n",
       "      <td>00:23</td>\n",
       "    </tr>\n",
       "    <tr>\n",
       "      <td>9</td>\n",
       "      <td>0.191357</td>\n",
       "      <td>0.171094</td>\n",
       "      <td>0.038924</td>\n",
       "      <td>0.004805</td>\n",
       "      <td>0.153125</td>\n",
       "      <td>0.017970</td>\n",
       "      <td>00:23</td>\n",
       "    </tr>\n",
       "    <tr>\n",
       "      <td>10</td>\n",
       "      <td>0.143482</td>\n",
       "      <td>0.152512</td>\n",
       "      <td>0.039404</td>\n",
       "      <td>0.009130</td>\n",
       "      <td>0.128189</td>\n",
       "      <td>0.024323</td>\n",
       "      <td>00:23</td>\n",
       "    </tr>\n",
       "    <tr>\n",
       "      <td>11</td>\n",
       "      <td>0.128087</td>\n",
       "      <td>0.138187</td>\n",
       "      <td>0.029313</td>\n",
       "      <td>0.004325</td>\n",
       "      <td>0.125252</td>\n",
       "      <td>0.012935</td>\n",
       "      <td>00:23</td>\n",
       "    </tr>\n",
       "    <tr>\n",
       "      <td>12</td>\n",
       "      <td>0.085265</td>\n",
       "      <td>0.113959</td>\n",
       "      <td>0.025469</td>\n",
       "      <td>0.005766</td>\n",
       "      <td>0.098731</td>\n",
       "      <td>0.015229</td>\n",
       "      <td>00:23</td>\n",
       "    </tr>\n",
       "    <tr>\n",
       "      <td>13</td>\n",
       "      <td>0.081106</td>\n",
       "      <td>0.113260</td>\n",
       "      <td>0.026430</td>\n",
       "      <td>0.004805</td>\n",
       "      <td>0.099252</td>\n",
       "      <td>0.014008</td>\n",
       "      <td>00:23</td>\n",
       "    </tr>\n",
       "    <tr>\n",
       "      <td>14</td>\n",
       "      <td>0.063773</td>\n",
       "      <td>0.123426</td>\n",
       "      <td>0.025469</td>\n",
       "      <td>0.005286</td>\n",
       "      <td>0.106761</td>\n",
       "      <td>0.016666</td>\n",
       "      <td>00:23</td>\n",
       "    </tr>\n",
       "    <tr>\n",
       "      <td>15</td>\n",
       "      <td>0.053240</td>\n",
       "      <td>0.113160</td>\n",
       "      <td>0.025949</td>\n",
       "      <td>0.003844</td>\n",
       "      <td>0.098842</td>\n",
       "      <td>0.014319</td>\n",
       "      <td>00:23</td>\n",
       "    </tr>\n",
       "    <tr>\n",
       "      <td>16</td>\n",
       "      <td>0.044963</td>\n",
       "      <td>0.108499</td>\n",
       "      <td>0.024027</td>\n",
       "      <td>0.003844</td>\n",
       "      <td>0.093906</td>\n",
       "      <td>0.014593</td>\n",
       "      <td>00:23</td>\n",
       "    </tr>\n",
       "    <tr>\n",
       "      <td>17</td>\n",
       "      <td>0.042779</td>\n",
       "      <td>0.110705</td>\n",
       "      <td>0.024988</td>\n",
       "      <td>0.003844</td>\n",
       "      <td>0.096476</td>\n",
       "      <td>0.014229</td>\n",
       "      <td>00:23</td>\n",
       "    </tr>\n",
       "  </tbody>\n",
       "</table>"
      ],
      "text/plain": [
       "<IPython.core.display.HTML object>"
      ]
     },
     "metadata": {},
     "output_type": "display_data"
    }
   ],
   "source": [
    "learn = train_mult('convnext_small_in22k',\n",
    "                  item=Resize((256, 192), method=ResizeMethod.Pad, pad_mode=PadMode.Zeros),\n",
    "                  batch=aug_transforms(size=128, min_scale=0.75),\n",
    "                  epochs=18)"
   ]
  },
  {
   "cell_type": "code",
   "execution_count": 53,
   "metadata": {
    "tags": []
   },
   "outputs": [
    {
     "data": {
      "text/html": [
       "\n",
       "<style>\n",
       "    /* Turns off some styling */\n",
       "    progress {\n",
       "        /* gets rid of default border in Firefox and Opera. */\n",
       "        border: none;\n",
       "        /* Needs to be in here for Safari polyfill so background images work as expected. */\n",
       "        background-size: auto;\n",
       "    }\n",
       "    progress:not([value]), progress:not([value])::-webkit-progress-bar {\n",
       "        background: repeating-linear-gradient(45deg, #7e7e7e, #7e7e7e 10px, #5c5c5c 10px, #5c5c5c 20px);\n",
       "    }\n",
       "    .progress-bar-interrupted, .progress-bar-interrupted::-webkit-progress-bar {\n",
       "        background: #F44336;\n",
       "    }\n",
       "</style>\n"
      ],
      "text/plain": [
       "<IPython.core.display.HTML object>"
      ]
     },
     "metadata": {},
     "output_type": "display_data"
    },
    {
     "data": {
      "text/html": [
       "\n",
       "    <div>\n",
       "      <progress value='0' class='' max='18' style='width:300px; height:20px; vertical-align: middle;'></progress>\n",
       "      \n",
       "    </div>\n",
       "    \n"
      ],
      "text/plain": [
       "<IPython.core.display.HTML object>"
      ]
     },
     "metadata": {},
     "output_type": "display_data"
    },
    {
     "data": {
      "text/html": [
       "\n",
       "<style>\n",
       "    /* Turns off some styling */\n",
       "    progress {\n",
       "        /* gets rid of default border in Firefox and Opera. */\n",
       "        border: none;\n",
       "        /* Needs to be in here for Safari polyfill so background images work as expected. */\n",
       "        background-size: auto;\n",
       "    }\n",
       "    progress:not([value]), progress:not([value])::-webkit-progress-bar {\n",
       "        background: repeating-linear-gradient(45deg, #7e7e7e, #7e7e7e 10px, #5c5c5c 10px, #5c5c5c 20px);\n",
       "    }\n",
       "    .progress-bar-interrupted, .progress-bar-interrupted::-webkit-progress-bar {\n",
       "        background: #F44336;\n",
       "    }\n",
       "</style>\n"
      ],
      "text/plain": [
       "<IPython.core.display.HTML object>"
      ]
     },
     "metadata": {},
     "output_type": "display_data"
    },
    {
     "data": {
      "text/html": [],
      "text/plain": [
       "<IPython.core.display.HTML object>"
      ]
     },
     "metadata": {},
     "output_type": "display_data"
    },
    {
     "data": {
      "text/plain": [
       "TensorBase(0.0250)"
      ]
     },
     "execution_count": 53,
     "metadata": {},
     "output_type": "execute_result"
    }
   ],
   "source": [
    "tta_preds, targs = learn.tta(dl=learn.dls.valid)\n",
    "error_rate(tta_preds[:, :10], targs[0])"
   ]
  },
  {
   "cell_type": "markdown",
   "metadata": {},
   "source": []
  },
  {
   "cell_type": "code",
   "execution_count": null,
   "metadata": {},
   "outputs": [],
   "source": []
  },
  {
   "cell_type": "code",
   "execution_count": null,
   "metadata": {
    "id": "4DNWUP1zS4ES"
   },
   "outputs": [],
   "source": [
    "dls = ImageDataLoaders.from_folder(trn_path, valid_pct=0.2, item_tfms=Resize(480, method='squish'),\n",
    "                                   batch_tfms=aug_transforms(size=224, min_scale=0.75))"
   ]
  },
  {
   "cell_type": "code",
   "execution_count": null,
   "metadata": {
    "id": "wT5uSyawTQwR"
   },
   "outputs": [],
   "source": [
    "idxs = avg_pr.argmax(dim=1)\n",
    "ss = pd.read_csv(path/'sample_submission.csv')\n",
    "ss['label'] = dls.vocab[idxs]\n",
    "ss.to_csv('subm.csv', index=False)"
   ]
  },
  {
   "cell_type": "code",
   "execution_count": null,
   "metadata": {
    "colab": {
     "base_uri": "https://localhost:8080/"
    },
    "id": "Ob5gt4cXTiyr",
    "outputId": "27bf8f86-aa47-4fd7-c929-67fbbe4857a9"
   },
   "outputs": [
    {
     "name": "stdout",
     "output_type": "stream",
     "text": [
      "image_id,label\n",
      "200001.jpg,hispa\n",
      "200002.jpg,normal\n",
      "200003.jpg,blast\n",
      "200004.jpg,blast\n",
      "200005.jpg,blast\n",
      "200006.jpg,brown_spot\n",
      "200007.jpg,dead_heart\n",
      "200008.jpg,brown_spot\n",
      "200009.jpg,hispa\n"
     ]
    }
   ],
   "source": [
    "!head subm.csv"
   ]
  },
  {
   "cell_type": "code",
   "execution_count": null,
   "metadata": {
    "colab": {
     "base_uri": "https://localhost:8080/"
    },
    "id": "MkCgoVH5TmVa",
    "outputId": "47138ab5-f64a-41a0-ff7b-2623445a8f15"
   },
   "outputs": [
    {
     "name": "stderr",
     "output_type": "stream",
     "text": [
      "100%|██████████| 70.5k/70.5k [00:00<00:00, 78.8kB/s]\n"
     ]
    },
    {
     "data": {
      "text/plain": [
       "Successfully submitted to Paddy Doctor: Paddy Disease Classification"
      ]
     },
     "execution_count": 54,
     "metadata": {},
     "output_type": "execute_result"
    }
   ],
   "source": [
    "from kaggle import api\n",
    "api.competition_submit_cli('subm.csv', 'big ensemble tta double vit', comp)"
   ]
  },
  {
   "cell_type": "code",
   "execution_count": null,
   "metadata": {
    "id": "Jnp0KZCgTvXJ"
   },
   "outputs": [],
   "source": []
  }
 ],
 "metadata": {
  "accelerator": "GPU",
  "colab": {
   "gpuType": "A100",
   "machine_shape": "hm",
   "provenance": []
  },
  "kernelspec": {
   "display_name": "Python 3 (ipykernel)",
   "language": "python",
   "name": "python3"
  },
  "language_info": {
   "codemirror_mode": {
    "name": "ipython",
    "version": 3
   },
   "file_extension": ".py",
   "mimetype": "text/x-python",
   "name": "python",
   "nbconvert_exporter": "python",
   "pygments_lexer": "ipython3",
   "version": "3.11.7"
  }
 },
 "nbformat": 4,
 "nbformat_minor": 4
}
